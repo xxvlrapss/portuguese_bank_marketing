{
 "cells": [
  {
   "cell_type": "code",
   "execution_count": 1,
   "id": "ae524f97",
   "metadata": {
    "_cell_guid": "b1076dfc-b9ad-4769-8c92-a6c4dae69d19",
    "_uuid": "8f2839f25d086af736a60e9eeb907d3b93b6e0e5",
    "execution": {
     "iopub.execute_input": "2025-08-25T07:05:58.616732Z",
     "iopub.status.busy": "2025-08-25T07:05:58.616353Z",
     "iopub.status.idle": "2025-08-25T07:06:03.134337Z",
     "shell.execute_reply": "2025-08-25T07:06:03.133303Z"
    },
    "papermill": {
     "duration": 4.529843,
     "end_time": "2025-08-25T07:06:03.135987",
     "exception": false,
     "start_time": "2025-08-25T07:05:58.606144",
     "status": "completed"
    },
    "tags": []
   },
   "outputs": [
    {
     "name": "stdout",
     "output_type": "stream",
     "text": [
      "/kaggle/input/bank-marketing-additional-full/bank-additional-full.csv\n"
     ]
    }
   ],
   "source": [
    "# This Python 3 environment comes with many helpful analytics libraries installed\n",
    "# It is defined by the kaggle/python Docker image: https://github.com/kaggle/docker-python\n",
    "# For example, here's several helpful packages to load\n",
    "\n",
    "import numpy as np # linear algebra\n",
    "import pandas as pd # data processing, CSV file I/O (e.g. pd.read_csv)\n",
    "import seaborn as sns\n",
    "import matplotlib.pyplot as plt\n",
    "import warnings\n",
    "\n",
    "from sklearn.model_selection import train_test_split\n",
    "from sklearn.preprocessing import OneHotEncoder, StandardScaler\n",
    "from sklearn.compose import ColumnTransformer\n",
    "from sklearn.pipeline import Pipeline\n",
    "from sklearn.impute import SimpleImputer\n",
    "from sklearn.linear_model import LogisticRegression\n",
    "from sklearn.metrics import classification_report, confusion_matrix, roc_auc_score\n",
    "\n",
    "# Input data files are available in the read-only \"../input/\" directory\n",
    "# For example, running this (by clicking run or pressing Shift+Enter) will list all files under the input directory\n",
    "\n",
    "import os\n",
    "for dirname, _, filenames in os.walk('/kaggle/input/bank-marketing-additional-full'):\n",
    "    for filename in filenames:\n",
    "        print(os.path.join(dirname, filename))\n",
    "\n",
    "# You can write up to 20GB to the current directory (/kaggle/working/) that gets preserved as output when you create a version using \"Save & Run All\" \n",
    "# You can also write temporary files to /kaggle/temp/, but they won't be saved outside of the current session"
   ]
  },
  {
   "cell_type": "markdown",
   "id": "e8a6ce4d",
   "metadata": {
    "papermill": {
     "duration": 0.007219,
     "end_time": "2025-08-25T07:06:03.151485",
     "exception": false,
     "start_time": "2025-08-25T07:06:03.144266",
     "status": "completed"
    },
    "tags": []
   },
   "source": [
    "# Load Data"
   ]
  },
  {
   "cell_type": "code",
   "execution_count": 2,
   "id": "0ee08c89",
   "metadata": {
    "execution": {
     "iopub.execute_input": "2025-08-25T07:06:03.167758Z",
     "iopub.status.busy": "2025-08-25T07:06:03.167271Z",
     "iopub.status.idle": "2025-08-25T07:06:03.435250Z",
     "shell.execute_reply": "2025-08-25T07:06:03.434162Z"
    },
    "papermill": {
     "duration": 0.278443,
     "end_time": "2025-08-25T07:06:03.437331",
     "exception": false,
     "start_time": "2025-08-25T07:06:03.158888",
     "status": "completed"
    },
    "tags": []
   },
   "outputs": [],
   "source": [
    "bank_full = pd.read_csv('/kaggle/input/bank-marketing-additional-full/bank-additional-full.csv', sep=';')"
   ]
  },
  {
   "cell_type": "code",
   "execution_count": 3,
   "id": "0b079de8",
   "metadata": {
    "execution": {
     "iopub.execute_input": "2025-08-25T07:06:03.454542Z",
     "iopub.status.busy": "2025-08-25T07:06:03.454221Z",
     "iopub.status.idle": "2025-08-25T07:06:03.492036Z",
     "shell.execute_reply": "2025-08-25T07:06:03.491152Z"
    },
    "papermill": {
     "duration": 0.047663,
     "end_time": "2025-08-25T07:06:03.493634",
     "exception": false,
     "start_time": "2025-08-25T07:06:03.445971",
     "status": "completed"
    },
    "tags": []
   },
   "outputs": [
    {
     "data": {
      "text/html": [
       "<div>\n",
       "<style scoped>\n",
       "    .dataframe tbody tr th:only-of-type {\n",
       "        vertical-align: middle;\n",
       "    }\n",
       "\n",
       "    .dataframe tbody tr th {\n",
       "        vertical-align: top;\n",
       "    }\n",
       "\n",
       "    .dataframe thead th {\n",
       "        text-align: right;\n",
       "    }\n",
       "</style>\n",
       "<table border=\"1\" class=\"dataframe\">\n",
       "  <thead>\n",
       "    <tr style=\"text-align: right;\">\n",
       "      <th></th>\n",
       "      <th>age</th>\n",
       "      <th>job</th>\n",
       "      <th>marital</th>\n",
       "      <th>education</th>\n",
       "      <th>default</th>\n",
       "      <th>housing</th>\n",
       "      <th>loan</th>\n",
       "      <th>contact</th>\n",
       "      <th>month</th>\n",
       "      <th>day_of_week</th>\n",
       "      <th>...</th>\n",
       "      <th>campaign</th>\n",
       "      <th>pdays</th>\n",
       "      <th>previous</th>\n",
       "      <th>poutcome</th>\n",
       "      <th>emp.var.rate</th>\n",
       "      <th>cons.price.idx</th>\n",
       "      <th>cons.conf.idx</th>\n",
       "      <th>euribor3m</th>\n",
       "      <th>nr.employed</th>\n",
       "      <th>y</th>\n",
       "    </tr>\n",
       "  </thead>\n",
       "  <tbody>\n",
       "    <tr>\n",
       "      <th>0</th>\n",
       "      <td>56</td>\n",
       "      <td>housemaid</td>\n",
       "      <td>married</td>\n",
       "      <td>basic.4y</td>\n",
       "      <td>no</td>\n",
       "      <td>no</td>\n",
       "      <td>no</td>\n",
       "      <td>telephone</td>\n",
       "      <td>may</td>\n",
       "      <td>mon</td>\n",
       "      <td>...</td>\n",
       "      <td>1</td>\n",
       "      <td>999</td>\n",
       "      <td>0</td>\n",
       "      <td>nonexistent</td>\n",
       "      <td>1.1</td>\n",
       "      <td>93.994</td>\n",
       "      <td>-36.4</td>\n",
       "      <td>4.857</td>\n",
       "      <td>5191.0</td>\n",
       "      <td>no</td>\n",
       "    </tr>\n",
       "    <tr>\n",
       "      <th>1</th>\n",
       "      <td>57</td>\n",
       "      <td>services</td>\n",
       "      <td>married</td>\n",
       "      <td>high.school</td>\n",
       "      <td>unknown</td>\n",
       "      <td>no</td>\n",
       "      <td>no</td>\n",
       "      <td>telephone</td>\n",
       "      <td>may</td>\n",
       "      <td>mon</td>\n",
       "      <td>...</td>\n",
       "      <td>1</td>\n",
       "      <td>999</td>\n",
       "      <td>0</td>\n",
       "      <td>nonexistent</td>\n",
       "      <td>1.1</td>\n",
       "      <td>93.994</td>\n",
       "      <td>-36.4</td>\n",
       "      <td>4.857</td>\n",
       "      <td>5191.0</td>\n",
       "      <td>no</td>\n",
       "    </tr>\n",
       "    <tr>\n",
       "      <th>2</th>\n",
       "      <td>37</td>\n",
       "      <td>services</td>\n",
       "      <td>married</td>\n",
       "      <td>high.school</td>\n",
       "      <td>no</td>\n",
       "      <td>yes</td>\n",
       "      <td>no</td>\n",
       "      <td>telephone</td>\n",
       "      <td>may</td>\n",
       "      <td>mon</td>\n",
       "      <td>...</td>\n",
       "      <td>1</td>\n",
       "      <td>999</td>\n",
       "      <td>0</td>\n",
       "      <td>nonexistent</td>\n",
       "      <td>1.1</td>\n",
       "      <td>93.994</td>\n",
       "      <td>-36.4</td>\n",
       "      <td>4.857</td>\n",
       "      <td>5191.0</td>\n",
       "      <td>no</td>\n",
       "    </tr>\n",
       "    <tr>\n",
       "      <th>3</th>\n",
       "      <td>40</td>\n",
       "      <td>admin.</td>\n",
       "      <td>married</td>\n",
       "      <td>basic.6y</td>\n",
       "      <td>no</td>\n",
       "      <td>no</td>\n",
       "      <td>no</td>\n",
       "      <td>telephone</td>\n",
       "      <td>may</td>\n",
       "      <td>mon</td>\n",
       "      <td>...</td>\n",
       "      <td>1</td>\n",
       "      <td>999</td>\n",
       "      <td>0</td>\n",
       "      <td>nonexistent</td>\n",
       "      <td>1.1</td>\n",
       "      <td>93.994</td>\n",
       "      <td>-36.4</td>\n",
       "      <td>4.857</td>\n",
       "      <td>5191.0</td>\n",
       "      <td>no</td>\n",
       "    </tr>\n",
       "    <tr>\n",
       "      <th>4</th>\n",
       "      <td>56</td>\n",
       "      <td>services</td>\n",
       "      <td>married</td>\n",
       "      <td>high.school</td>\n",
       "      <td>no</td>\n",
       "      <td>no</td>\n",
       "      <td>yes</td>\n",
       "      <td>telephone</td>\n",
       "      <td>may</td>\n",
       "      <td>mon</td>\n",
       "      <td>...</td>\n",
       "      <td>1</td>\n",
       "      <td>999</td>\n",
       "      <td>0</td>\n",
       "      <td>nonexistent</td>\n",
       "      <td>1.1</td>\n",
       "      <td>93.994</td>\n",
       "      <td>-36.4</td>\n",
       "      <td>4.857</td>\n",
       "      <td>5191.0</td>\n",
       "      <td>no</td>\n",
       "    </tr>\n",
       "  </tbody>\n",
       "</table>\n",
       "<p>5 rows × 21 columns</p>\n",
       "</div>"
      ],
      "text/plain": [
       "   age        job  marital    education  default housing loan    contact  \\\n",
       "0   56  housemaid  married     basic.4y       no      no   no  telephone   \n",
       "1   57   services  married  high.school  unknown      no   no  telephone   \n",
       "2   37   services  married  high.school       no     yes   no  telephone   \n",
       "3   40     admin.  married     basic.6y       no      no   no  telephone   \n",
       "4   56   services  married  high.school       no      no  yes  telephone   \n",
       "\n",
       "  month day_of_week  ...  campaign  pdays  previous     poutcome emp.var.rate  \\\n",
       "0   may         mon  ...         1    999         0  nonexistent          1.1   \n",
       "1   may         mon  ...         1    999         0  nonexistent          1.1   \n",
       "2   may         mon  ...         1    999         0  nonexistent          1.1   \n",
       "3   may         mon  ...         1    999         0  nonexistent          1.1   \n",
       "4   may         mon  ...         1    999         0  nonexistent          1.1   \n",
       "\n",
       "   cons.price.idx  cons.conf.idx  euribor3m  nr.employed   y  \n",
       "0          93.994          -36.4      4.857       5191.0  no  \n",
       "1          93.994          -36.4      4.857       5191.0  no  \n",
       "2          93.994          -36.4      4.857       5191.0  no  \n",
       "3          93.994          -36.4      4.857       5191.0  no  \n",
       "4          93.994          -36.4      4.857       5191.0  no  \n",
       "\n",
       "[5 rows x 21 columns]"
      ]
     },
     "execution_count": 3,
     "metadata": {},
     "output_type": "execute_result"
    }
   ],
   "source": [
    "bank_full.head()"
   ]
  },
  {
   "cell_type": "code",
   "execution_count": 4,
   "id": "0b05b0eb",
   "metadata": {
    "execution": {
     "iopub.execute_input": "2025-08-25T07:06:03.510693Z",
     "iopub.status.busy": "2025-08-25T07:06:03.510346Z",
     "iopub.status.idle": "2025-08-25T07:06:03.550515Z",
     "shell.execute_reply": "2025-08-25T07:06:03.549568Z"
    },
    "papermill": {
     "duration": 0.050387,
     "end_time": "2025-08-25T07:06:03.552053",
     "exception": false,
     "start_time": "2025-08-25T07:06:03.501666",
     "status": "completed"
    },
    "tags": []
   },
   "outputs": [
    {
     "data": {
      "text/html": [
       "<div>\n",
       "<style scoped>\n",
       "    .dataframe tbody tr th:only-of-type {\n",
       "        vertical-align: middle;\n",
       "    }\n",
       "\n",
       "    .dataframe tbody tr th {\n",
       "        vertical-align: top;\n",
       "    }\n",
       "\n",
       "    .dataframe thead th {\n",
       "        text-align: right;\n",
       "    }\n",
       "</style>\n",
       "<table border=\"1\" class=\"dataframe\">\n",
       "  <thead>\n",
       "    <tr style=\"text-align: right;\">\n",
       "      <th></th>\n",
       "      <th>age</th>\n",
       "      <th>job</th>\n",
       "      <th>marital</th>\n",
       "      <th>education</th>\n",
       "      <th>default</th>\n",
       "      <th>housing</th>\n",
       "      <th>loan</th>\n",
       "      <th>contact</th>\n",
       "      <th>month</th>\n",
       "      <th>day_of_week</th>\n",
       "      <th>...</th>\n",
       "      <th>campaign</th>\n",
       "      <th>pdays</th>\n",
       "      <th>previous</th>\n",
       "      <th>poutcome</th>\n",
       "      <th>emp.var.rate</th>\n",
       "      <th>cons.price.idx</th>\n",
       "      <th>cons.conf.idx</th>\n",
       "      <th>euribor3m</th>\n",
       "      <th>nr.employed</th>\n",
       "      <th>y</th>\n",
       "    </tr>\n",
       "  </thead>\n",
       "  <tbody>\n",
       "    <tr>\n",
       "      <th>0</th>\n",
       "      <td>56</td>\n",
       "      <td>housemaid</td>\n",
       "      <td>married</td>\n",
       "      <td>basic.4y</td>\n",
       "      <td>no</td>\n",
       "      <td>no</td>\n",
       "      <td>no</td>\n",
       "      <td>telephone</td>\n",
       "      <td>may</td>\n",
       "      <td>mon</td>\n",
       "      <td>...</td>\n",
       "      <td>1</td>\n",
       "      <td>999</td>\n",
       "      <td>0</td>\n",
       "      <td>nonexistent</td>\n",
       "      <td>1.1</td>\n",
       "      <td>93.994</td>\n",
       "      <td>-36.4</td>\n",
       "      <td>4.857</td>\n",
       "      <td>5191.0</td>\n",
       "      <td>no</td>\n",
       "    </tr>\n",
       "    <tr>\n",
       "      <th>1</th>\n",
       "      <td>57</td>\n",
       "      <td>services</td>\n",
       "      <td>married</td>\n",
       "      <td>high.school</td>\n",
       "      <td>unknown</td>\n",
       "      <td>no</td>\n",
       "      <td>no</td>\n",
       "      <td>telephone</td>\n",
       "      <td>may</td>\n",
       "      <td>mon</td>\n",
       "      <td>...</td>\n",
       "      <td>1</td>\n",
       "      <td>999</td>\n",
       "      <td>0</td>\n",
       "      <td>nonexistent</td>\n",
       "      <td>1.1</td>\n",
       "      <td>93.994</td>\n",
       "      <td>-36.4</td>\n",
       "      <td>4.857</td>\n",
       "      <td>5191.0</td>\n",
       "      <td>no</td>\n",
       "    </tr>\n",
       "    <tr>\n",
       "      <th>2</th>\n",
       "      <td>37</td>\n",
       "      <td>services</td>\n",
       "      <td>married</td>\n",
       "      <td>high.school</td>\n",
       "      <td>no</td>\n",
       "      <td>yes</td>\n",
       "      <td>no</td>\n",
       "      <td>telephone</td>\n",
       "      <td>may</td>\n",
       "      <td>mon</td>\n",
       "      <td>...</td>\n",
       "      <td>1</td>\n",
       "      <td>999</td>\n",
       "      <td>0</td>\n",
       "      <td>nonexistent</td>\n",
       "      <td>1.1</td>\n",
       "      <td>93.994</td>\n",
       "      <td>-36.4</td>\n",
       "      <td>4.857</td>\n",
       "      <td>5191.0</td>\n",
       "      <td>no</td>\n",
       "    </tr>\n",
       "    <tr>\n",
       "      <th>3</th>\n",
       "      <td>40</td>\n",
       "      <td>admin.</td>\n",
       "      <td>married</td>\n",
       "      <td>basic.6y</td>\n",
       "      <td>no</td>\n",
       "      <td>no</td>\n",
       "      <td>no</td>\n",
       "      <td>telephone</td>\n",
       "      <td>may</td>\n",
       "      <td>mon</td>\n",
       "      <td>...</td>\n",
       "      <td>1</td>\n",
       "      <td>999</td>\n",
       "      <td>0</td>\n",
       "      <td>nonexistent</td>\n",
       "      <td>1.1</td>\n",
       "      <td>93.994</td>\n",
       "      <td>-36.4</td>\n",
       "      <td>4.857</td>\n",
       "      <td>5191.0</td>\n",
       "      <td>no</td>\n",
       "    </tr>\n",
       "    <tr>\n",
       "      <th>4</th>\n",
       "      <td>56</td>\n",
       "      <td>services</td>\n",
       "      <td>married</td>\n",
       "      <td>high.school</td>\n",
       "      <td>no</td>\n",
       "      <td>no</td>\n",
       "      <td>yes</td>\n",
       "      <td>telephone</td>\n",
       "      <td>may</td>\n",
       "      <td>mon</td>\n",
       "      <td>...</td>\n",
       "      <td>1</td>\n",
       "      <td>999</td>\n",
       "      <td>0</td>\n",
       "      <td>nonexistent</td>\n",
       "      <td>1.1</td>\n",
       "      <td>93.994</td>\n",
       "      <td>-36.4</td>\n",
       "      <td>4.857</td>\n",
       "      <td>5191.0</td>\n",
       "      <td>no</td>\n",
       "    </tr>\n",
       "    <tr>\n",
       "      <th>...</th>\n",
       "      <td>...</td>\n",
       "      <td>...</td>\n",
       "      <td>...</td>\n",
       "      <td>...</td>\n",
       "      <td>...</td>\n",
       "      <td>...</td>\n",
       "      <td>...</td>\n",
       "      <td>...</td>\n",
       "      <td>...</td>\n",
       "      <td>...</td>\n",
       "      <td>...</td>\n",
       "      <td>...</td>\n",
       "      <td>...</td>\n",
       "      <td>...</td>\n",
       "      <td>...</td>\n",
       "      <td>...</td>\n",
       "      <td>...</td>\n",
       "      <td>...</td>\n",
       "      <td>...</td>\n",
       "      <td>...</td>\n",
       "      <td>...</td>\n",
       "    </tr>\n",
       "    <tr>\n",
       "      <th>41183</th>\n",
       "      <td>73</td>\n",
       "      <td>retired</td>\n",
       "      <td>married</td>\n",
       "      <td>professional.course</td>\n",
       "      <td>no</td>\n",
       "      <td>yes</td>\n",
       "      <td>no</td>\n",
       "      <td>cellular</td>\n",
       "      <td>nov</td>\n",
       "      <td>fri</td>\n",
       "      <td>...</td>\n",
       "      <td>1</td>\n",
       "      <td>999</td>\n",
       "      <td>0</td>\n",
       "      <td>nonexistent</td>\n",
       "      <td>-1.1</td>\n",
       "      <td>94.767</td>\n",
       "      <td>-50.8</td>\n",
       "      <td>1.028</td>\n",
       "      <td>4963.6</td>\n",
       "      <td>yes</td>\n",
       "    </tr>\n",
       "    <tr>\n",
       "      <th>41184</th>\n",
       "      <td>46</td>\n",
       "      <td>blue-collar</td>\n",
       "      <td>married</td>\n",
       "      <td>professional.course</td>\n",
       "      <td>no</td>\n",
       "      <td>no</td>\n",
       "      <td>no</td>\n",
       "      <td>cellular</td>\n",
       "      <td>nov</td>\n",
       "      <td>fri</td>\n",
       "      <td>...</td>\n",
       "      <td>1</td>\n",
       "      <td>999</td>\n",
       "      <td>0</td>\n",
       "      <td>nonexistent</td>\n",
       "      <td>-1.1</td>\n",
       "      <td>94.767</td>\n",
       "      <td>-50.8</td>\n",
       "      <td>1.028</td>\n",
       "      <td>4963.6</td>\n",
       "      <td>no</td>\n",
       "    </tr>\n",
       "    <tr>\n",
       "      <th>41185</th>\n",
       "      <td>56</td>\n",
       "      <td>retired</td>\n",
       "      <td>married</td>\n",
       "      <td>university.degree</td>\n",
       "      <td>no</td>\n",
       "      <td>yes</td>\n",
       "      <td>no</td>\n",
       "      <td>cellular</td>\n",
       "      <td>nov</td>\n",
       "      <td>fri</td>\n",
       "      <td>...</td>\n",
       "      <td>2</td>\n",
       "      <td>999</td>\n",
       "      <td>0</td>\n",
       "      <td>nonexistent</td>\n",
       "      <td>-1.1</td>\n",
       "      <td>94.767</td>\n",
       "      <td>-50.8</td>\n",
       "      <td>1.028</td>\n",
       "      <td>4963.6</td>\n",
       "      <td>no</td>\n",
       "    </tr>\n",
       "    <tr>\n",
       "      <th>41186</th>\n",
       "      <td>44</td>\n",
       "      <td>technician</td>\n",
       "      <td>married</td>\n",
       "      <td>professional.course</td>\n",
       "      <td>no</td>\n",
       "      <td>no</td>\n",
       "      <td>no</td>\n",
       "      <td>cellular</td>\n",
       "      <td>nov</td>\n",
       "      <td>fri</td>\n",
       "      <td>...</td>\n",
       "      <td>1</td>\n",
       "      <td>999</td>\n",
       "      <td>0</td>\n",
       "      <td>nonexistent</td>\n",
       "      <td>-1.1</td>\n",
       "      <td>94.767</td>\n",
       "      <td>-50.8</td>\n",
       "      <td>1.028</td>\n",
       "      <td>4963.6</td>\n",
       "      <td>yes</td>\n",
       "    </tr>\n",
       "    <tr>\n",
       "      <th>41187</th>\n",
       "      <td>74</td>\n",
       "      <td>retired</td>\n",
       "      <td>married</td>\n",
       "      <td>professional.course</td>\n",
       "      <td>no</td>\n",
       "      <td>yes</td>\n",
       "      <td>no</td>\n",
       "      <td>cellular</td>\n",
       "      <td>nov</td>\n",
       "      <td>fri</td>\n",
       "      <td>...</td>\n",
       "      <td>3</td>\n",
       "      <td>999</td>\n",
       "      <td>1</td>\n",
       "      <td>failure</td>\n",
       "      <td>-1.1</td>\n",
       "      <td>94.767</td>\n",
       "      <td>-50.8</td>\n",
       "      <td>1.028</td>\n",
       "      <td>4963.6</td>\n",
       "      <td>no</td>\n",
       "    </tr>\n",
       "  </tbody>\n",
       "</table>\n",
       "<p>41188 rows × 21 columns</p>\n",
       "</div>"
      ],
      "text/plain": [
       "       age          job  marital            education  default housing loan  \\\n",
       "0       56    housemaid  married             basic.4y       no      no   no   \n",
       "1       57     services  married          high.school  unknown      no   no   \n",
       "2       37     services  married          high.school       no     yes   no   \n",
       "3       40       admin.  married             basic.6y       no      no   no   \n",
       "4       56     services  married          high.school       no      no  yes   \n",
       "...    ...          ...      ...                  ...      ...     ...  ...   \n",
       "41183   73      retired  married  professional.course       no     yes   no   \n",
       "41184   46  blue-collar  married  professional.course       no      no   no   \n",
       "41185   56      retired  married    university.degree       no     yes   no   \n",
       "41186   44   technician  married  professional.course       no      no   no   \n",
       "41187   74      retired  married  professional.course       no     yes   no   \n",
       "\n",
       "         contact month day_of_week  ...  campaign  pdays  previous  \\\n",
       "0      telephone   may         mon  ...         1    999         0   \n",
       "1      telephone   may         mon  ...         1    999         0   \n",
       "2      telephone   may         mon  ...         1    999         0   \n",
       "3      telephone   may         mon  ...         1    999         0   \n",
       "4      telephone   may         mon  ...         1    999         0   \n",
       "...          ...   ...         ...  ...       ...    ...       ...   \n",
       "41183   cellular   nov         fri  ...         1    999         0   \n",
       "41184   cellular   nov         fri  ...         1    999         0   \n",
       "41185   cellular   nov         fri  ...         2    999         0   \n",
       "41186   cellular   nov         fri  ...         1    999         0   \n",
       "41187   cellular   nov         fri  ...         3    999         1   \n",
       "\n",
       "          poutcome emp.var.rate  cons.price.idx  cons.conf.idx  euribor3m  \\\n",
       "0      nonexistent          1.1          93.994          -36.4      4.857   \n",
       "1      nonexistent          1.1          93.994          -36.4      4.857   \n",
       "2      nonexistent          1.1          93.994          -36.4      4.857   \n",
       "3      nonexistent          1.1          93.994          -36.4      4.857   \n",
       "4      nonexistent          1.1          93.994          -36.4      4.857   \n",
       "...            ...          ...             ...            ...        ...   \n",
       "41183  nonexistent         -1.1          94.767          -50.8      1.028   \n",
       "41184  nonexistent         -1.1          94.767          -50.8      1.028   \n",
       "41185  nonexistent         -1.1          94.767          -50.8      1.028   \n",
       "41186  nonexistent         -1.1          94.767          -50.8      1.028   \n",
       "41187      failure         -1.1          94.767          -50.8      1.028   \n",
       "\n",
       "       nr.employed    y  \n",
       "0           5191.0   no  \n",
       "1           5191.0   no  \n",
       "2           5191.0   no  \n",
       "3           5191.0   no  \n",
       "4           5191.0   no  \n",
       "...            ...  ...  \n",
       "41183       4963.6  yes  \n",
       "41184       4963.6   no  \n",
       "41185       4963.6   no  \n",
       "41186       4963.6  yes  \n",
       "41187       4963.6   no  \n",
       "\n",
       "[41188 rows x 21 columns]"
      ]
     },
     "execution_count": 4,
     "metadata": {},
     "output_type": "execute_result"
    }
   ],
   "source": [
    "bank_full"
   ]
  },
  {
   "cell_type": "code",
   "execution_count": 5,
   "id": "4b4ff9bc",
   "metadata": {
    "execution": {
     "iopub.execute_input": "2025-08-25T07:06:03.569535Z",
     "iopub.status.busy": "2025-08-25T07:06:03.569190Z",
     "iopub.status.idle": "2025-08-25T07:06:03.616923Z",
     "shell.execute_reply": "2025-08-25T07:06:03.615977Z"
    },
    "papermill": {
     "duration": 0.058155,
     "end_time": "2025-08-25T07:06:03.618538",
     "exception": false,
     "start_time": "2025-08-25T07:06:03.560383",
     "status": "completed"
    },
    "tags": []
   },
   "outputs": [
    {
     "data": {
      "text/html": [
       "<div>\n",
       "<style scoped>\n",
       "    .dataframe tbody tr th:only-of-type {\n",
       "        vertical-align: middle;\n",
       "    }\n",
       "\n",
       "    .dataframe tbody tr th {\n",
       "        vertical-align: top;\n",
       "    }\n",
       "\n",
       "    .dataframe thead th {\n",
       "        text-align: right;\n",
       "    }\n",
       "</style>\n",
       "<table border=\"1\" class=\"dataframe\">\n",
       "  <thead>\n",
       "    <tr style=\"text-align: right;\">\n",
       "      <th></th>\n",
       "      <th>age</th>\n",
       "      <th>duration</th>\n",
       "      <th>campaign</th>\n",
       "      <th>pdays</th>\n",
       "      <th>previous</th>\n",
       "      <th>emp.var.rate</th>\n",
       "      <th>cons.price.idx</th>\n",
       "      <th>cons.conf.idx</th>\n",
       "      <th>euribor3m</th>\n",
       "      <th>nr.employed</th>\n",
       "    </tr>\n",
       "  </thead>\n",
       "  <tbody>\n",
       "    <tr>\n",
       "      <th>count</th>\n",
       "      <td>41188.00000</td>\n",
       "      <td>41188.000000</td>\n",
       "      <td>41188.000000</td>\n",
       "      <td>41188.000000</td>\n",
       "      <td>41188.000000</td>\n",
       "      <td>41188.000000</td>\n",
       "      <td>41188.000000</td>\n",
       "      <td>41188.000000</td>\n",
       "      <td>41188.000000</td>\n",
       "      <td>41188.000000</td>\n",
       "    </tr>\n",
       "    <tr>\n",
       "      <th>mean</th>\n",
       "      <td>40.02406</td>\n",
       "      <td>258.285010</td>\n",
       "      <td>2.567593</td>\n",
       "      <td>962.475454</td>\n",
       "      <td>0.172963</td>\n",
       "      <td>0.081886</td>\n",
       "      <td>93.575664</td>\n",
       "      <td>-40.502600</td>\n",
       "      <td>3.621291</td>\n",
       "      <td>5167.035911</td>\n",
       "    </tr>\n",
       "    <tr>\n",
       "      <th>std</th>\n",
       "      <td>10.42125</td>\n",
       "      <td>259.279249</td>\n",
       "      <td>2.770014</td>\n",
       "      <td>186.910907</td>\n",
       "      <td>0.494901</td>\n",
       "      <td>1.570960</td>\n",
       "      <td>0.578840</td>\n",
       "      <td>4.628198</td>\n",
       "      <td>1.734447</td>\n",
       "      <td>72.251528</td>\n",
       "    </tr>\n",
       "    <tr>\n",
       "      <th>min</th>\n",
       "      <td>17.00000</td>\n",
       "      <td>0.000000</td>\n",
       "      <td>1.000000</td>\n",
       "      <td>0.000000</td>\n",
       "      <td>0.000000</td>\n",
       "      <td>-3.400000</td>\n",
       "      <td>92.201000</td>\n",
       "      <td>-50.800000</td>\n",
       "      <td>0.634000</td>\n",
       "      <td>4963.600000</td>\n",
       "    </tr>\n",
       "    <tr>\n",
       "      <th>25%</th>\n",
       "      <td>32.00000</td>\n",
       "      <td>102.000000</td>\n",
       "      <td>1.000000</td>\n",
       "      <td>999.000000</td>\n",
       "      <td>0.000000</td>\n",
       "      <td>-1.800000</td>\n",
       "      <td>93.075000</td>\n",
       "      <td>-42.700000</td>\n",
       "      <td>1.344000</td>\n",
       "      <td>5099.100000</td>\n",
       "    </tr>\n",
       "    <tr>\n",
       "      <th>50%</th>\n",
       "      <td>38.00000</td>\n",
       "      <td>180.000000</td>\n",
       "      <td>2.000000</td>\n",
       "      <td>999.000000</td>\n",
       "      <td>0.000000</td>\n",
       "      <td>1.100000</td>\n",
       "      <td>93.749000</td>\n",
       "      <td>-41.800000</td>\n",
       "      <td>4.857000</td>\n",
       "      <td>5191.000000</td>\n",
       "    </tr>\n",
       "    <tr>\n",
       "      <th>75%</th>\n",
       "      <td>47.00000</td>\n",
       "      <td>319.000000</td>\n",
       "      <td>3.000000</td>\n",
       "      <td>999.000000</td>\n",
       "      <td>0.000000</td>\n",
       "      <td>1.400000</td>\n",
       "      <td>93.994000</td>\n",
       "      <td>-36.400000</td>\n",
       "      <td>4.961000</td>\n",
       "      <td>5228.100000</td>\n",
       "    </tr>\n",
       "    <tr>\n",
       "      <th>max</th>\n",
       "      <td>98.00000</td>\n",
       "      <td>4918.000000</td>\n",
       "      <td>56.000000</td>\n",
       "      <td>999.000000</td>\n",
       "      <td>7.000000</td>\n",
       "      <td>1.400000</td>\n",
       "      <td>94.767000</td>\n",
       "      <td>-26.900000</td>\n",
       "      <td>5.045000</td>\n",
       "      <td>5228.100000</td>\n",
       "    </tr>\n",
       "  </tbody>\n",
       "</table>\n",
       "</div>"
      ],
      "text/plain": [
       "               age      duration      campaign         pdays      previous  \\\n",
       "count  41188.00000  41188.000000  41188.000000  41188.000000  41188.000000   \n",
       "mean      40.02406    258.285010      2.567593    962.475454      0.172963   \n",
       "std       10.42125    259.279249      2.770014    186.910907      0.494901   \n",
       "min       17.00000      0.000000      1.000000      0.000000      0.000000   \n",
       "25%       32.00000    102.000000      1.000000    999.000000      0.000000   \n",
       "50%       38.00000    180.000000      2.000000    999.000000      0.000000   \n",
       "75%       47.00000    319.000000      3.000000    999.000000      0.000000   \n",
       "max       98.00000   4918.000000     56.000000    999.000000      7.000000   \n",
       "\n",
       "       emp.var.rate  cons.price.idx  cons.conf.idx     euribor3m   nr.employed  \n",
       "count  41188.000000    41188.000000   41188.000000  41188.000000  41188.000000  \n",
       "mean       0.081886       93.575664     -40.502600      3.621291   5167.035911  \n",
       "std        1.570960        0.578840       4.628198      1.734447     72.251528  \n",
       "min       -3.400000       92.201000     -50.800000      0.634000   4963.600000  \n",
       "25%       -1.800000       93.075000     -42.700000      1.344000   5099.100000  \n",
       "50%        1.100000       93.749000     -41.800000      4.857000   5191.000000  \n",
       "75%        1.400000       93.994000     -36.400000      4.961000   5228.100000  \n",
       "max        1.400000       94.767000     -26.900000      5.045000   5228.100000  "
      ]
     },
     "execution_count": 5,
     "metadata": {},
     "output_type": "execute_result"
    }
   ],
   "source": [
    "bank_full.describe()"
   ]
  },
  {
   "cell_type": "code",
   "execution_count": 6,
   "id": "43e3b227",
   "metadata": {
    "execution": {
     "iopub.execute_input": "2025-08-25T07:06:03.637632Z",
     "iopub.status.busy": "2025-08-25T07:06:03.637237Z",
     "iopub.status.idle": "2025-08-25T07:06:03.680227Z",
     "shell.execute_reply": "2025-08-25T07:06:03.679187Z"
    },
    "papermill": {
     "duration": 0.054344,
     "end_time": "2025-08-25T07:06:03.681789",
     "exception": false,
     "start_time": "2025-08-25T07:06:03.627445",
     "status": "completed"
    },
    "tags": []
   },
   "outputs": [
    {
     "name": "stdout",
     "output_type": "stream",
     "text": [
      "<class 'pandas.core.frame.DataFrame'>\n",
      "RangeIndex: 41188 entries, 0 to 41187\n",
      "Data columns (total 21 columns):\n",
      " #   Column          Non-Null Count  Dtype  \n",
      "---  ------          --------------  -----  \n",
      " 0   age             41188 non-null  int64  \n",
      " 1   job             41188 non-null  object \n",
      " 2   marital         41188 non-null  object \n",
      " 3   education       41188 non-null  object \n",
      " 4   default         41188 non-null  object \n",
      " 5   housing         41188 non-null  object \n",
      " 6   loan            41188 non-null  object \n",
      " 7   contact         41188 non-null  object \n",
      " 8   month           41188 non-null  object \n",
      " 9   day_of_week     41188 non-null  object \n",
      " 10  duration        41188 non-null  int64  \n",
      " 11  campaign        41188 non-null  int64  \n",
      " 12  pdays           41188 non-null  int64  \n",
      " 13  previous        41188 non-null  int64  \n",
      " 14  poutcome        41188 non-null  object \n",
      " 15  emp.var.rate    41188 non-null  float64\n",
      " 16  cons.price.idx  41188 non-null  float64\n",
      " 17  cons.conf.idx   41188 non-null  float64\n",
      " 18  euribor3m       41188 non-null  float64\n",
      " 19  nr.employed     41188 non-null  float64\n",
      " 20  y               41188 non-null  object \n",
      "dtypes: float64(5), int64(5), object(11)\n",
      "memory usage: 6.6+ MB\n",
      "Ukuran dataset \n",
      " baris dan kolom : (41188, 21)\n"
     ]
    }
   ],
   "source": [
    "#  Cek ukuran data (rows x columns)\n",
    "bank_full.info()\n",
    "print(\"Ukuran dataset \\n baris dan kolom :\", bank_full.shape)"
   ]
  },
  {
   "cell_type": "markdown",
   "id": "cba2b0e7",
   "metadata": {
    "papermill": {
     "duration": 0.008092,
     "end_time": "2025-08-25T07:06:03.698730",
     "exception": false,
     "start_time": "2025-08-25T07:06:03.690638",
     "status": "completed"
    },
    "tags": []
   },
   "source": [
    "# Data Cleaning"
   ]
  },
  {
   "cell_type": "code",
   "execution_count": 7,
   "id": "c9dd7859",
   "metadata": {
    "execution": {
     "iopub.execute_input": "2025-08-25T07:06:03.717108Z",
     "iopub.status.busy": "2025-08-25T07:06:03.716805Z",
     "iopub.status.idle": "2025-08-25T07:06:03.750396Z",
     "shell.execute_reply": "2025-08-25T07:06:03.749393Z"
    },
    "papermill": {
     "duration": 0.044724,
     "end_time": "2025-08-25T07:06:03.751841",
     "exception": false,
     "start_time": "2025-08-25T07:06:03.707117",
     "status": "completed"
    },
    "tags": []
   },
   "outputs": [
    {
     "name": "stdout",
     "output_type": "stream",
     "text": [
      "<class 'pandas.core.frame.DataFrame'>\n",
      "RangeIndex: 41188 entries, 0 to 41187\n",
      "Data columns (total 21 columns):\n",
      " #   Column          Non-Null Count  Dtype  \n",
      "---  ------          --------------  -----  \n",
      " 0   age             41188 non-null  int64  \n",
      " 1   job             41188 non-null  object \n",
      " 2   marital         41188 non-null  object \n",
      " 3   education       41188 non-null  object \n",
      " 4   default         41188 non-null  object \n",
      " 5   housing         41188 non-null  object \n",
      " 6   loan            41188 non-null  object \n",
      " 7   contact         41188 non-null  object \n",
      " 8   month           41188 non-null  object \n",
      " 9   day_of_week     41188 non-null  object \n",
      " 10  duration        41188 non-null  int64  \n",
      " 11  campaign        41188 non-null  int64  \n",
      " 12  pdays           41188 non-null  int64  \n",
      " 13  previous        41188 non-null  int64  \n",
      " 14  poutcome        41188 non-null  object \n",
      " 15  emp.var.rate    41188 non-null  float64\n",
      " 16  cons.price.idx  41188 non-null  float64\n",
      " 17  cons.conf.idx   41188 non-null  float64\n",
      " 18  euribor3m       41188 non-null  float64\n",
      " 19  nr.employed     41188 non-null  float64\n",
      " 20  y               41188 non-null  object \n",
      "dtypes: float64(5), int64(5), object(11)\n",
      "memory usage: 6.6+ MB\n"
     ]
    }
   ],
   "source": [
    "#  Inspect structure and summary\n",
    "# This helps us understand datatypes, non-null counts, and basic statistics\n",
    "bank_full.info()\n"
   ]
  },
  {
   "cell_type": "code",
   "execution_count": 8,
   "id": "580b1f27",
   "metadata": {
    "execution": {
     "iopub.execute_input": "2025-08-25T07:06:03.770492Z",
     "iopub.status.busy": "2025-08-25T07:06:03.770150Z",
     "iopub.status.idle": "2025-08-25T07:06:03.810470Z",
     "shell.execute_reply": "2025-08-25T07:06:03.809645Z"
    },
    "papermill": {
     "duration": 0.051528,
     "end_time": "2025-08-25T07:06:03.812255",
     "exception": false,
     "start_time": "2025-08-25T07:06:03.760727",
     "status": "completed"
    },
    "tags": []
   },
   "outputs": [
    {
     "data": {
      "text/html": [
       "<div>\n",
       "<style scoped>\n",
       "    .dataframe tbody tr th:only-of-type {\n",
       "        vertical-align: middle;\n",
       "    }\n",
       "\n",
       "    .dataframe tbody tr th {\n",
       "        vertical-align: top;\n",
       "    }\n",
       "\n",
       "    .dataframe thead th {\n",
       "        text-align: right;\n",
       "    }\n",
       "</style>\n",
       "<table border=\"1\" class=\"dataframe\">\n",
       "  <thead>\n",
       "    <tr style=\"text-align: right;\">\n",
       "      <th></th>\n",
       "      <th>age</th>\n",
       "      <th>duration</th>\n",
       "      <th>campaign</th>\n",
       "      <th>pdays</th>\n",
       "      <th>previous</th>\n",
       "      <th>emp.var.rate</th>\n",
       "      <th>cons.price.idx</th>\n",
       "      <th>cons.conf.idx</th>\n",
       "      <th>euribor3m</th>\n",
       "      <th>nr.employed</th>\n",
       "    </tr>\n",
       "  </thead>\n",
       "  <tbody>\n",
       "    <tr>\n",
       "      <th>count</th>\n",
       "      <td>41188.00000</td>\n",
       "      <td>41188.000000</td>\n",
       "      <td>41188.000000</td>\n",
       "      <td>41188.000000</td>\n",
       "      <td>41188.000000</td>\n",
       "      <td>41188.000000</td>\n",
       "      <td>41188.000000</td>\n",
       "      <td>41188.000000</td>\n",
       "      <td>41188.000000</td>\n",
       "      <td>41188.000000</td>\n",
       "    </tr>\n",
       "    <tr>\n",
       "      <th>mean</th>\n",
       "      <td>40.02406</td>\n",
       "      <td>258.285010</td>\n",
       "      <td>2.567593</td>\n",
       "      <td>962.475454</td>\n",
       "      <td>0.172963</td>\n",
       "      <td>0.081886</td>\n",
       "      <td>93.575664</td>\n",
       "      <td>-40.502600</td>\n",
       "      <td>3.621291</td>\n",
       "      <td>5167.035911</td>\n",
       "    </tr>\n",
       "    <tr>\n",
       "      <th>std</th>\n",
       "      <td>10.42125</td>\n",
       "      <td>259.279249</td>\n",
       "      <td>2.770014</td>\n",
       "      <td>186.910907</td>\n",
       "      <td>0.494901</td>\n",
       "      <td>1.570960</td>\n",
       "      <td>0.578840</td>\n",
       "      <td>4.628198</td>\n",
       "      <td>1.734447</td>\n",
       "      <td>72.251528</td>\n",
       "    </tr>\n",
       "    <tr>\n",
       "      <th>min</th>\n",
       "      <td>17.00000</td>\n",
       "      <td>0.000000</td>\n",
       "      <td>1.000000</td>\n",
       "      <td>0.000000</td>\n",
       "      <td>0.000000</td>\n",
       "      <td>-3.400000</td>\n",
       "      <td>92.201000</td>\n",
       "      <td>-50.800000</td>\n",
       "      <td>0.634000</td>\n",
       "      <td>4963.600000</td>\n",
       "    </tr>\n",
       "    <tr>\n",
       "      <th>25%</th>\n",
       "      <td>32.00000</td>\n",
       "      <td>102.000000</td>\n",
       "      <td>1.000000</td>\n",
       "      <td>999.000000</td>\n",
       "      <td>0.000000</td>\n",
       "      <td>-1.800000</td>\n",
       "      <td>93.075000</td>\n",
       "      <td>-42.700000</td>\n",
       "      <td>1.344000</td>\n",
       "      <td>5099.100000</td>\n",
       "    </tr>\n",
       "    <tr>\n",
       "      <th>50%</th>\n",
       "      <td>38.00000</td>\n",
       "      <td>180.000000</td>\n",
       "      <td>2.000000</td>\n",
       "      <td>999.000000</td>\n",
       "      <td>0.000000</td>\n",
       "      <td>1.100000</td>\n",
       "      <td>93.749000</td>\n",
       "      <td>-41.800000</td>\n",
       "      <td>4.857000</td>\n",
       "      <td>5191.000000</td>\n",
       "    </tr>\n",
       "    <tr>\n",
       "      <th>75%</th>\n",
       "      <td>47.00000</td>\n",
       "      <td>319.000000</td>\n",
       "      <td>3.000000</td>\n",
       "      <td>999.000000</td>\n",
       "      <td>0.000000</td>\n",
       "      <td>1.400000</td>\n",
       "      <td>93.994000</td>\n",
       "      <td>-36.400000</td>\n",
       "      <td>4.961000</td>\n",
       "      <td>5228.100000</td>\n",
       "    </tr>\n",
       "    <tr>\n",
       "      <th>max</th>\n",
       "      <td>98.00000</td>\n",
       "      <td>4918.000000</td>\n",
       "      <td>56.000000</td>\n",
       "      <td>999.000000</td>\n",
       "      <td>7.000000</td>\n",
       "      <td>1.400000</td>\n",
       "      <td>94.767000</td>\n",
       "      <td>-26.900000</td>\n",
       "      <td>5.045000</td>\n",
       "      <td>5228.100000</td>\n",
       "    </tr>\n",
       "  </tbody>\n",
       "</table>\n",
       "</div>"
      ],
      "text/plain": [
       "               age      duration      campaign         pdays      previous  \\\n",
       "count  41188.00000  41188.000000  41188.000000  41188.000000  41188.000000   \n",
       "mean      40.02406    258.285010      2.567593    962.475454      0.172963   \n",
       "std       10.42125    259.279249      2.770014    186.910907      0.494901   \n",
       "min       17.00000      0.000000      1.000000      0.000000      0.000000   \n",
       "25%       32.00000    102.000000      1.000000    999.000000      0.000000   \n",
       "50%       38.00000    180.000000      2.000000    999.000000      0.000000   \n",
       "75%       47.00000    319.000000      3.000000    999.000000      0.000000   \n",
       "max       98.00000   4918.000000     56.000000    999.000000      7.000000   \n",
       "\n",
       "       emp.var.rate  cons.price.idx  cons.conf.idx     euribor3m   nr.employed  \n",
       "count  41188.000000    41188.000000   41188.000000  41188.000000  41188.000000  \n",
       "mean       0.081886       93.575664     -40.502600      3.621291   5167.035911  \n",
       "std        1.570960        0.578840       4.628198      1.734447     72.251528  \n",
       "min       -3.400000       92.201000     -50.800000      0.634000   4963.600000  \n",
       "25%       -1.800000       93.075000     -42.700000      1.344000   5099.100000  \n",
       "50%        1.100000       93.749000     -41.800000      4.857000   5191.000000  \n",
       "75%        1.400000       93.994000     -36.400000      4.961000   5228.100000  \n",
       "max        1.400000       94.767000     -26.900000      5.045000   5228.100000  "
      ]
     },
     "execution_count": 8,
     "metadata": {},
     "output_type": "execute_result"
    }
   ],
   "source": [
    "# Short summary statistic\n",
    "bank_full.describe()"
   ]
  },
  {
   "cell_type": "code",
   "execution_count": 9,
   "id": "947f720b",
   "metadata": {
    "execution": {
     "iopub.execute_input": "2025-08-25T07:06:03.831402Z",
     "iopub.status.busy": "2025-08-25T07:06:03.831088Z",
     "iopub.status.idle": "2025-08-25T07:06:03.867500Z",
     "shell.execute_reply": "2025-08-25T07:06:03.866525Z"
    },
    "papermill": {
     "duration": 0.047742,
     "end_time": "2025-08-25T07:06:03.869173",
     "exception": false,
     "start_time": "2025-08-25T07:06:03.821431",
     "status": "completed"
    },
    "tags": []
   },
   "outputs": [
    {
     "data": {
      "text/plain": [
       "age                 78\n",
       "job                 12\n",
       "marital              4\n",
       "education            8\n",
       "default              3\n",
       "housing              3\n",
       "loan                 3\n",
       "contact              2\n",
       "month               10\n",
       "day_of_week          5\n",
       "duration          1544\n",
       "campaign            42\n",
       "pdays               27\n",
       "previous             8\n",
       "poutcome             3\n",
       "emp.var.rate        10\n",
       "cons.price.idx      26\n",
       "cons.conf.idx       26\n",
       "euribor3m          316\n",
       "nr.employed         11\n",
       "y                    2\n",
       "dtype: int64"
      ]
     },
     "execution_count": 9,
     "metadata": {},
     "output_type": "execute_result"
    }
   ],
   "source": [
    "# sum unique value\n",
    "bank_full.nunique()"
   ]
  },
  {
   "cell_type": "code",
   "execution_count": 10,
   "id": "9d9a5b12",
   "metadata": {
    "execution": {
     "iopub.execute_input": "2025-08-25T07:06:03.888476Z",
     "iopub.status.busy": "2025-08-25T07:06:03.888131Z",
     "iopub.status.idle": "2025-08-25T07:06:03.944706Z",
     "shell.execute_reply": "2025-08-25T07:06:03.943681Z"
    },
    "papermill": {
     "duration": 0.068139,
     "end_time": "2025-08-25T07:06:03.946288",
     "exception": false,
     "start_time": "2025-08-25T07:06:03.878149",
     "status": "completed"
    },
    "tags": []
   },
   "outputs": [
    {
     "name": "stdout",
     "output_type": "stream",
     "text": [
      "age               0\n",
      "job               0\n",
      "marital           0\n",
      "education         0\n",
      "default           0\n",
      "housing           0\n",
      "loan              0\n",
      "contact           0\n",
      "month             0\n",
      "day_of_week       0\n",
      "duration          0\n",
      "campaign          0\n",
      "pdays             0\n",
      "previous          0\n",
      "poutcome          0\n",
      "emp.var.rate      0\n",
      "cons.price.idx    0\n",
      "cons.conf.idx     0\n",
      "euribor3m         0\n",
      "nr.employed       0\n",
      "y                 0\n",
      "dtype: int64\n",
      "age               0.0\n",
      "job               0.0\n",
      "marital           0.0\n",
      "education         0.0\n",
      "default           0.0\n",
      "housing           0.0\n",
      "loan              0.0\n",
      "contact           0.0\n",
      "month             0.0\n",
      "day_of_week       0.0\n",
      "duration          0.0\n",
      "campaign          0.0\n",
      "pdays             0.0\n",
      "previous          0.0\n",
      "poutcome          0.0\n",
      "emp.var.rate      0.0\n",
      "cons.price.idx    0.0\n",
      "cons.conf.idx     0.0\n",
      "euribor3m         0.0\n",
      "nr.employed       0.0\n",
      "y                 0.0\n",
      "dtype: float64\n"
     ]
    }
   ],
   "source": [
    "#  Handling missing values\n",
    "# Check for missing values in both absolute numbers and percentages\n",
    "\n",
    "print(bank_full.isnull().sum())\n",
    "print((bank_full.isnull().sum() / len(bank_full)) * 100)"
   ]
  },
  {
   "cell_type": "code",
   "execution_count": 11,
   "id": "04395c4f",
   "metadata": {
    "execution": {
     "iopub.execute_input": "2025-08-25T07:06:03.966036Z",
     "iopub.status.busy": "2025-08-25T07:06:03.965703Z",
     "iopub.status.idle": "2025-08-25T07:06:04.081561Z",
     "shell.execute_reply": "2025-08-25T07:06:04.080497Z"
    },
    "papermill": {
     "duration": 0.12774,
     "end_time": "2025-08-25T07:06:04.083317",
     "exception": false,
     "start_time": "2025-08-25T07:06:03.955577",
     "status": "completed"
    },
    "tags": []
   },
   "outputs": [
    {
     "name": "stdout",
     "output_type": "stream",
     "text": [
      "Duplicate rows before: 12\n",
      "Duplicate rows after: 0\n"
     ]
    }
   ],
   "source": [
    "# Remove duplicates , (if there is duplicate !)\n",
    "# Duplicate rows can introduce bias, so we remove them\n",
    "\n",
    "print(\"Duplicate rows before:\", bank_full.duplicated().sum())\n",
    "bank_full = bank_full.drop_duplicates()\n",
    "print(\"Duplicate rows after:\", bank_full.duplicated().sum())"
   ]
  },
  {
   "cell_type": "code",
   "execution_count": 12,
   "id": "4798ca10",
   "metadata": {
    "execution": {
     "iopub.execute_input": "2025-08-25T07:06:04.103642Z",
     "iopub.status.busy": "2025-08-25T07:06:04.103234Z",
     "iopub.status.idle": "2025-08-25T07:06:04.206469Z",
     "shell.execute_reply": "2025-08-25T07:06:04.205491Z"
    },
    "papermill": {
     "duration": 0.115542,
     "end_time": "2025-08-25T07:06:04.208278",
     "exception": false,
     "start_time": "2025-08-25T07:06:04.092736",
     "status": "completed"
    },
    "tags": []
   },
   "outputs": [],
   "source": [
    "# Standardize categorical values\n",
    "\n",
    "# Convert all categorical string values to lowercase for consistency\n",
    "for col in bank_full.select_dtypes(include='object').columns:\n",
    "    bank_full.loc[:, col] = bank_full[col].str.lower()"
   ]
  },
  {
   "cell_type": "code",
   "execution_count": 13,
   "id": "fce489ea",
   "metadata": {
    "execution": {
     "iopub.execute_input": "2025-08-25T07:06:04.228550Z",
     "iopub.status.busy": "2025-08-25T07:06:04.228139Z",
     "iopub.status.idle": "2025-08-25T07:06:04.246738Z",
     "shell.execute_reply": "2025-08-25T07:06:04.245815Z"
    },
    "papermill": {
     "duration": 0.030386,
     "end_time": "2025-08-25T07:06:04.248247",
     "exception": false,
     "start_time": "2025-08-25T07:06:04.217861",
     "status": "completed"
    },
    "tags": []
   },
   "outputs": [
    {
     "data": {
      "text/html": [
       "<div>\n",
       "<style scoped>\n",
       "    .dataframe tbody tr th:only-of-type {\n",
       "        vertical-align: middle;\n",
       "    }\n",
       "\n",
       "    .dataframe tbody tr th {\n",
       "        vertical-align: top;\n",
       "    }\n",
       "\n",
       "    .dataframe thead th {\n",
       "        text-align: right;\n",
       "    }\n",
       "</style>\n",
       "<table border=\"1\" class=\"dataframe\">\n",
       "  <thead>\n",
       "    <tr style=\"text-align: right;\">\n",
       "      <th></th>\n",
       "      <th>age</th>\n",
       "      <th>job</th>\n",
       "      <th>marital</th>\n",
       "      <th>education</th>\n",
       "      <th>default</th>\n",
       "      <th>housing</th>\n",
       "      <th>loan</th>\n",
       "      <th>contact</th>\n",
       "      <th>month</th>\n",
       "      <th>day_of_week</th>\n",
       "      <th>...</th>\n",
       "      <th>campaign</th>\n",
       "      <th>pdays</th>\n",
       "      <th>previous</th>\n",
       "      <th>poutcome</th>\n",
       "      <th>emp.var.rate</th>\n",
       "      <th>cons.price.idx</th>\n",
       "      <th>cons.conf.idx</th>\n",
       "      <th>euribor3m</th>\n",
       "      <th>nr.employed</th>\n",
       "      <th>y</th>\n",
       "    </tr>\n",
       "  </thead>\n",
       "  <tbody>\n",
       "    <tr>\n",
       "      <th>0</th>\n",
       "      <td>56</td>\n",
       "      <td>housemaid</td>\n",
       "      <td>married</td>\n",
       "      <td>basic.4y</td>\n",
       "      <td>no</td>\n",
       "      <td>no</td>\n",
       "      <td>no</td>\n",
       "      <td>telephone</td>\n",
       "      <td>may</td>\n",
       "      <td>mon</td>\n",
       "      <td>...</td>\n",
       "      <td>1</td>\n",
       "      <td>999</td>\n",
       "      <td>0</td>\n",
       "      <td>nonexistent</td>\n",
       "      <td>1.1</td>\n",
       "      <td>93.994</td>\n",
       "      <td>-36.4</td>\n",
       "      <td>4.857</td>\n",
       "      <td>5191.0</td>\n",
       "      <td>no</td>\n",
       "    </tr>\n",
       "    <tr>\n",
       "      <th>1</th>\n",
       "      <td>57</td>\n",
       "      <td>services</td>\n",
       "      <td>married</td>\n",
       "      <td>high.school</td>\n",
       "      <td>unknown</td>\n",
       "      <td>no</td>\n",
       "      <td>no</td>\n",
       "      <td>telephone</td>\n",
       "      <td>may</td>\n",
       "      <td>mon</td>\n",
       "      <td>...</td>\n",
       "      <td>1</td>\n",
       "      <td>999</td>\n",
       "      <td>0</td>\n",
       "      <td>nonexistent</td>\n",
       "      <td>1.1</td>\n",
       "      <td>93.994</td>\n",
       "      <td>-36.4</td>\n",
       "      <td>4.857</td>\n",
       "      <td>5191.0</td>\n",
       "      <td>no</td>\n",
       "    </tr>\n",
       "    <tr>\n",
       "      <th>2</th>\n",
       "      <td>37</td>\n",
       "      <td>services</td>\n",
       "      <td>married</td>\n",
       "      <td>high.school</td>\n",
       "      <td>no</td>\n",
       "      <td>yes</td>\n",
       "      <td>no</td>\n",
       "      <td>telephone</td>\n",
       "      <td>may</td>\n",
       "      <td>mon</td>\n",
       "      <td>...</td>\n",
       "      <td>1</td>\n",
       "      <td>999</td>\n",
       "      <td>0</td>\n",
       "      <td>nonexistent</td>\n",
       "      <td>1.1</td>\n",
       "      <td>93.994</td>\n",
       "      <td>-36.4</td>\n",
       "      <td>4.857</td>\n",
       "      <td>5191.0</td>\n",
       "      <td>no</td>\n",
       "    </tr>\n",
       "    <tr>\n",
       "      <th>3</th>\n",
       "      <td>40</td>\n",
       "      <td>admin.</td>\n",
       "      <td>married</td>\n",
       "      <td>basic.6y</td>\n",
       "      <td>no</td>\n",
       "      <td>no</td>\n",
       "      <td>no</td>\n",
       "      <td>telephone</td>\n",
       "      <td>may</td>\n",
       "      <td>mon</td>\n",
       "      <td>...</td>\n",
       "      <td>1</td>\n",
       "      <td>999</td>\n",
       "      <td>0</td>\n",
       "      <td>nonexistent</td>\n",
       "      <td>1.1</td>\n",
       "      <td>93.994</td>\n",
       "      <td>-36.4</td>\n",
       "      <td>4.857</td>\n",
       "      <td>5191.0</td>\n",
       "      <td>no</td>\n",
       "    </tr>\n",
       "    <tr>\n",
       "      <th>4</th>\n",
       "      <td>56</td>\n",
       "      <td>services</td>\n",
       "      <td>married</td>\n",
       "      <td>high.school</td>\n",
       "      <td>no</td>\n",
       "      <td>no</td>\n",
       "      <td>yes</td>\n",
       "      <td>telephone</td>\n",
       "      <td>may</td>\n",
       "      <td>mon</td>\n",
       "      <td>...</td>\n",
       "      <td>1</td>\n",
       "      <td>999</td>\n",
       "      <td>0</td>\n",
       "      <td>nonexistent</td>\n",
       "      <td>1.1</td>\n",
       "      <td>93.994</td>\n",
       "      <td>-36.4</td>\n",
       "      <td>4.857</td>\n",
       "      <td>5191.0</td>\n",
       "      <td>no</td>\n",
       "    </tr>\n",
       "  </tbody>\n",
       "</table>\n",
       "<p>5 rows × 21 columns</p>\n",
       "</div>"
      ],
      "text/plain": [
       "   age        job  marital    education  default housing loan    contact  \\\n",
       "0   56  housemaid  married     basic.4y       no      no   no  telephone   \n",
       "1   57   services  married  high.school  unknown      no   no  telephone   \n",
       "2   37   services  married  high.school       no     yes   no  telephone   \n",
       "3   40     admin.  married     basic.6y       no      no   no  telephone   \n",
       "4   56   services  married  high.school       no      no  yes  telephone   \n",
       "\n",
       "  month day_of_week  ...  campaign  pdays  previous     poutcome emp.var.rate  \\\n",
       "0   may         mon  ...         1    999         0  nonexistent          1.1   \n",
       "1   may         mon  ...         1    999         0  nonexistent          1.1   \n",
       "2   may         mon  ...         1    999         0  nonexistent          1.1   \n",
       "3   may         mon  ...         1    999         0  nonexistent          1.1   \n",
       "4   may         mon  ...         1    999         0  nonexistent          1.1   \n",
       "\n",
       "   cons.price.idx  cons.conf.idx  euribor3m  nr.employed   y  \n",
       "0          93.994          -36.4      4.857       5191.0  no  \n",
       "1          93.994          -36.4      4.857       5191.0  no  \n",
       "2          93.994          -36.4      4.857       5191.0  no  \n",
       "3          93.994          -36.4      4.857       5191.0  no  \n",
       "4          93.994          -36.4      4.857       5191.0  no  \n",
       "\n",
       "[5 rows x 21 columns]"
      ]
     },
     "execution_count": 13,
     "metadata": {},
     "output_type": "execute_result"
    }
   ],
   "source": [
    "bank_full.head()"
   ]
  },
  {
   "cell_type": "code",
   "execution_count": 14,
   "id": "19b8515a",
   "metadata": {
    "execution": {
     "iopub.execute_input": "2025-08-25T07:06:04.332660Z",
     "iopub.status.busy": "2025-08-25T07:06:04.332193Z",
     "iopub.status.idle": "2025-08-25T07:06:04.642989Z",
     "shell.execute_reply": "2025-08-25T07:06:04.642060Z"
    },
    "papermill": {
     "duration": 0.38645,
     "end_time": "2025-08-25T07:06:04.644417",
     "exception": false,
     "start_time": "2025-08-25T07:06:04.257967",
     "status": "completed"
    },
    "tags": []
   },
   "outputs": [
    {
     "data": {
      "image/png": "[encoded data removed]",
      "text/plain": [
       "<Figure size 1200x600 with 1 Axes>"
      ]
     },
     "metadata": {},
     "output_type": "display_data"
    }
   ],
   "source": [
    "#  Outlier detection\n",
    "# Visualize outliers in numeric variables using boxplot\n",
    "plt.figure(figsize=(12,6))\n",
    "sns.boxplot(data=bank_full[['age', 'campaign','pdays', 'previous']], palette=\"YlOrBr\")\n",
    "plt.title(\"Outlier Detection in Numeric Variables\")\n",
    "plt.show()"
   ]
  },
  {
   "cell_type": "code",
   "execution_count": 15,
   "id": "66b932b5",
   "metadata": {
    "execution": {
     "iopub.execute_input": "2025-08-25T07:06:04.666008Z",
     "iopub.status.busy": "2025-08-25T07:06:04.665704Z",
     "iopub.status.idle": "2025-08-25T07:06:04.675789Z",
     "shell.execute_reply": "2025-08-25T07:06:04.674970Z"
    },
    "papermill": {
     "duration": 0.022443,
     "end_time": "2025-08-25T07:06:04.677237",
     "exception": false,
     "start_time": "2025-08-25T07:06:04.654794",
     "status": "completed"
    },
    "tags": []
   },
   "outputs": [
    {
     "data": {
      "text/plain": [
       "count    41176.00000\n",
       "mean        40.02380\n",
       "std         10.42068\n",
       "min         17.00000\n",
       "25%         32.00000\n",
       "50%         38.00000\n",
       "75%         47.00000\n",
       "max         98.00000\n",
       "Name: age, dtype: float64"
      ]
     },
     "execution_count": 15,
     "metadata": {},
     "output_type": "execute_result"
    }
   ],
   "source": [
    "# Statistik Deskriptif\n",
    "bank_full['age'].describe()"
   ]
  },
  {
   "cell_type": "code",
   "execution_count": 16,
   "id": "5ae2ba70",
   "metadata": {
    "execution": {
     "iopub.execute_input": "2025-08-25T07:06:04.698401Z",
     "iopub.status.busy": "2025-08-25T07:06:04.698109Z",
     "iopub.status.idle": "2025-08-25T07:06:04.841612Z",
     "shell.execute_reply": "2025-08-25T07:06:04.840663Z"
    },
    "papermill": {
     "duration": 0.155866,
     "end_time": "2025-08-25T07:06:04.843226",
     "exception": false,
     "start_time": "2025-08-25T07:06:04.687360",
     "status": "completed"
    },
    "tags": []
   },
   "outputs": [
    {
     "data": {
      "image/png": "[encoded data removed]",
      "text/plain": [
       "<Figure size 640x480 with 1 Axes>"
      ]
     },
     "metadata": {},
     "output_type": "display_data"
    }
   ],
   "source": [
    "# Boxplot For age\n",
    "sns.boxplot(y=bank_full['age'], palette='autumn')\n",
    "\n",
    "plt.title(\"Boxplot Age\")\n",
    "plt.show()"
   ]
  },
  {
   "cell_type": "code",
   "execution_count": 17,
   "id": "833ce5ff",
   "metadata": {
    "execution": {
     "iopub.execute_input": "2025-08-25T07:06:04.865080Z",
     "iopub.status.busy": "2025-08-25T07:06:04.864800Z",
     "iopub.status.idle": "2025-08-25T07:06:04.872645Z",
     "shell.execute_reply": "2025-08-25T07:06:04.871768Z"
    },
    "papermill": {
     "duration": 0.020502,
     "end_time": "2025-08-25T07:06:04.874232",
     "exception": false,
     "start_time": "2025-08-25T07:06:04.853730",
     "status": "completed"
    },
    "tags": []
   },
   "outputs": [
    {
     "name": "stderr",
     "output_type": "stream",
     "text": [
      "/tmp/ipykernel_13/118401696.py:4: FutureWarning: Setting an item of incompatible dtype is deprecated and will raise in a future error of pandas. Value '[nan nan nan ... nan nan nan]' has dtype incompatible with int64, please explicitly cast to a compatible dtype first.\n",
      "  bank_full.loc[:, 'pdays'] = bank_full['pdays'].replace(999, np.nan)\n"
     ]
    }
   ],
   "source": [
    "# Special column handling\n",
    "\n",
    "# - pdays = 999 means client has never been contacted -> replace with NaN\n",
    "bank_full.loc[:, 'pdays'] = bank_full['pdays'].replace(999, np.nan)"
   ]
  },
  {
   "cell_type": "code",
   "execution_count": 18,
   "id": "c77f8deb",
   "metadata": {
    "execution": {
     "iopub.execute_input": "2025-08-25T07:06:04.896272Z",
     "iopub.status.busy": "2025-08-25T07:06:04.895936Z",
     "iopub.status.idle": "2025-08-25T07:06:04.918723Z",
     "shell.execute_reply": "2025-08-25T07:06:04.917621Z"
    },
    "papermill": {
     "duration": 0.035652,
     "end_time": "2025-08-25T07:06:04.920200",
     "exception": false,
     "start_time": "2025-08-25T07:06:04.884548",
     "status": "completed"
    },
    "tags": []
   },
   "outputs": [
    {
     "name": "stderr",
     "output_type": "stream",
     "text": [
      "/usr/local/lib/python3.11/dist-packages/pandas/io/formats/format.py:1458: RuntimeWarning: invalid value encountered in greater\n",
      "  has_large_values = (abs_vals > 1e6).any()\n",
      "/usr/local/lib/python3.11/dist-packages/pandas/io/formats/format.py:1459: RuntimeWarning: invalid value encountered in less\n",
      "  has_small_values = ((abs_vals < 10 ** (-self.digits)) & (abs_vals > 0)).any()\n",
      "/usr/local/lib/python3.11/dist-packages/pandas/io/formats/format.py:1459: RuntimeWarning: invalid value encountered in greater\n",
      "  has_small_values = ((abs_vals < 10 ** (-self.digits)) & (abs_vals > 0)).any()\n",
      "/usr/local/lib/python3.11/dist-packages/pandas/io/formats/format.py:1458: RuntimeWarning: invalid value encountered in greater\n",
      "  has_large_values = (abs_vals > 1e6).any()\n",
      "/usr/local/lib/python3.11/dist-packages/pandas/io/formats/format.py:1459: RuntimeWarning: invalid value encountered in less\n",
      "  has_small_values = ((abs_vals < 10 ** (-self.digits)) & (abs_vals > 0)).any()\n",
      "/usr/local/lib/python3.11/dist-packages/pandas/io/formats/format.py:1459: RuntimeWarning: invalid value encountered in greater\n",
      "  has_small_values = ((abs_vals < 10 ** (-self.digits)) & (abs_vals > 0)).any()\n"
     ]
    },
    {
     "data": {
      "text/html": [
       "<div>\n",
       "<style scoped>\n",
       "    .dataframe tbody tr th:only-of-type {\n",
       "        vertical-align: middle;\n",
       "    }\n",
       "\n",
       "    .dataframe tbody tr th {\n",
       "        vertical-align: top;\n",
       "    }\n",
       "\n",
       "    .dataframe thead th {\n",
       "        text-align: right;\n",
       "    }\n",
       "</style>\n",
       "<table border=\"1\" class=\"dataframe\">\n",
       "  <thead>\n",
       "    <tr style=\"text-align: right;\">\n",
       "      <th></th>\n",
       "      <th>age</th>\n",
       "      <th>job</th>\n",
       "      <th>marital</th>\n",
       "      <th>education</th>\n",
       "      <th>default</th>\n",
       "      <th>housing</th>\n",
       "      <th>loan</th>\n",
       "      <th>contact</th>\n",
       "      <th>month</th>\n",
       "      <th>day_of_week</th>\n",
       "      <th>...</th>\n",
       "      <th>campaign</th>\n",
       "      <th>pdays</th>\n",
       "      <th>previous</th>\n",
       "      <th>poutcome</th>\n",
       "      <th>emp.var.rate</th>\n",
       "      <th>cons.price.idx</th>\n",
       "      <th>cons.conf.idx</th>\n",
       "      <th>euribor3m</th>\n",
       "      <th>nr.employed</th>\n",
       "      <th>y</th>\n",
       "    </tr>\n",
       "  </thead>\n",
       "  <tbody>\n",
       "    <tr>\n",
       "      <th>0</th>\n",
       "      <td>56</td>\n",
       "      <td>housemaid</td>\n",
       "      <td>married</td>\n",
       "      <td>basic.4y</td>\n",
       "      <td>no</td>\n",
       "      <td>no</td>\n",
       "      <td>no</td>\n",
       "      <td>telephone</td>\n",
       "      <td>may</td>\n",
       "      <td>mon</td>\n",
       "      <td>...</td>\n",
       "      <td>1</td>\n",
       "      <td>NaN</td>\n",
       "      <td>0</td>\n",
       "      <td>nonexistent</td>\n",
       "      <td>1.1</td>\n",
       "      <td>93.994</td>\n",
       "      <td>-36.4</td>\n",
       "      <td>4.857</td>\n",
       "      <td>5191.0</td>\n",
       "      <td>no</td>\n",
       "    </tr>\n",
       "    <tr>\n",
       "      <th>1</th>\n",
       "      <td>57</td>\n",
       "      <td>services</td>\n",
       "      <td>married</td>\n",
       "      <td>high.school</td>\n",
       "      <td>unknown</td>\n",
       "      <td>no</td>\n",
       "      <td>no</td>\n",
       "      <td>telephone</td>\n",
       "      <td>may</td>\n",
       "      <td>mon</td>\n",
       "      <td>...</td>\n",
       "      <td>1</td>\n",
       "      <td>NaN</td>\n",
       "      <td>0</td>\n",
       "      <td>nonexistent</td>\n",
       "      <td>1.1</td>\n",
       "      <td>93.994</td>\n",
       "      <td>-36.4</td>\n",
       "      <td>4.857</td>\n",
       "      <td>5191.0</td>\n",
       "      <td>no</td>\n",
       "    </tr>\n",
       "    <tr>\n",
       "      <th>2</th>\n",
       "      <td>37</td>\n",
       "      <td>services</td>\n",
       "      <td>married</td>\n",
       "      <td>high.school</td>\n",
       "      <td>no</td>\n",
       "      <td>yes</td>\n",
       "      <td>no</td>\n",
       "      <td>telephone</td>\n",
       "      <td>may</td>\n",
       "      <td>mon</td>\n",
       "      <td>...</td>\n",
       "      <td>1</td>\n",
       "      <td>NaN</td>\n",
       "      <td>0</td>\n",
       "      <td>nonexistent</td>\n",
       "      <td>1.1</td>\n",
       "      <td>93.994</td>\n",
       "      <td>-36.4</td>\n",
       "      <td>4.857</td>\n",
       "      <td>5191.0</td>\n",
       "      <td>no</td>\n",
       "    </tr>\n",
       "    <tr>\n",
       "      <th>3</th>\n",
       "      <td>40</td>\n",
       "      <td>admin.</td>\n",
       "      <td>married</td>\n",
       "      <td>basic.6y</td>\n",
       "      <td>no</td>\n",
       "      <td>no</td>\n",
       "      <td>no</td>\n",
       "      <td>telephone</td>\n",
       "      <td>may</td>\n",
       "      <td>mon</td>\n",
       "      <td>...</td>\n",
       "      <td>1</td>\n",
       "      <td>NaN</td>\n",
       "      <td>0</td>\n",
       "      <td>nonexistent</td>\n",
       "      <td>1.1</td>\n",
       "      <td>93.994</td>\n",
       "      <td>-36.4</td>\n",
       "      <td>4.857</td>\n",
       "      <td>5191.0</td>\n",
       "      <td>no</td>\n",
       "    </tr>\n",
       "    <tr>\n",
       "      <th>4</th>\n",
       "      <td>56</td>\n",
       "      <td>services</td>\n",
       "      <td>married</td>\n",
       "      <td>high.school</td>\n",
       "      <td>no</td>\n",
       "      <td>no</td>\n",
       "      <td>yes</td>\n",
       "      <td>telephone</td>\n",
       "      <td>may</td>\n",
       "      <td>mon</td>\n",
       "      <td>...</td>\n",
       "      <td>1</td>\n",
       "      <td>NaN</td>\n",
       "      <td>0</td>\n",
       "      <td>nonexistent</td>\n",
       "      <td>1.1</td>\n",
       "      <td>93.994</td>\n",
       "      <td>-36.4</td>\n",
       "      <td>4.857</td>\n",
       "      <td>5191.0</td>\n",
       "      <td>no</td>\n",
       "    </tr>\n",
       "  </tbody>\n",
       "</table>\n",
       "<p>5 rows × 21 columns</p>\n",
       "</div>"
      ],
      "text/plain": [
       "   age        job  marital    education  default housing loan    contact  \\\n",
       "0   56  housemaid  married     basic.4y       no      no   no  telephone   \n",
       "1   57   services  married  high.school  unknown      no   no  telephone   \n",
       "2   37   services  married  high.school       no     yes   no  telephone   \n",
       "3   40     admin.  married     basic.6y       no      no   no  telephone   \n",
       "4   56   services  married  high.school       no      no  yes  telephone   \n",
       "\n",
       "  month day_of_week  ...  campaign  pdays  previous     poutcome emp.var.rate  \\\n",
       "0   may         mon  ...         1    NaN         0  nonexistent          1.1   \n",
       "1   may         mon  ...         1    NaN         0  nonexistent          1.1   \n",
       "2   may         mon  ...         1    NaN         0  nonexistent          1.1   \n",
       "3   may         mon  ...         1    NaN         0  nonexistent          1.1   \n",
       "4   may         mon  ...         1    NaN         0  nonexistent          1.1   \n",
       "\n",
       "   cons.price.idx  cons.conf.idx  euribor3m  nr.employed   y  \n",
       "0          93.994          -36.4      4.857       5191.0  no  \n",
       "1          93.994          -36.4      4.857       5191.0  no  \n",
       "2          93.994          -36.4      4.857       5191.0  no  \n",
       "3          93.994          -36.4      4.857       5191.0  no  \n",
       "4          93.994          -36.4      4.857       5191.0  no  \n",
       "\n",
       "[5 rows x 21 columns]"
      ]
     },
     "execution_count": 18,
     "metadata": {},
     "output_type": "execute_result"
    }
   ],
   "source": [
    "bank_full.head()"
   ]
  },
  {
   "cell_type": "code",
   "execution_count": 19,
   "id": "57133df9",
   "metadata": {
    "execution": {
     "iopub.execute_input": "2025-08-25T07:06:04.943686Z",
     "iopub.status.busy": "2025-08-25T07:06:04.943218Z",
     "iopub.status.idle": "2025-08-25T07:06:04.955443Z",
     "shell.execute_reply": "2025-08-25T07:06:04.954512Z"
    },
    "papermill": {
     "duration": 0.025977,
     "end_time": "2025-08-25T07:06:04.957294",
     "exception": false,
     "start_time": "2025-08-25T07:06:04.931317",
     "status": "completed"
    },
    "tags": []
   },
   "outputs": [],
   "source": [
    "# - duration (call length) is known only after the call, \n",
    "#   using it would cause data leakage -> drop the column\n",
    "bank_full = bank_full.drop(columns=['duration'])"
   ]
  },
  {
   "cell_type": "code",
   "execution_count": 20,
   "id": "957080cc",
   "metadata": {
    "execution": {
     "iopub.execute_input": "2025-08-25T07:06:04.980036Z",
     "iopub.status.busy": "2025-08-25T07:06:04.979743Z",
     "iopub.status.idle": "2025-08-25T07:06:04.991957Z",
     "shell.execute_reply": "2025-08-25T07:06:04.990650Z"
    },
    "papermill": {
     "duration": 0.025263,
     "end_time": "2025-08-25T07:06:04.993456",
     "exception": false,
     "start_time": "2025-08-25T07:06:04.968193",
     "status": "completed"
    },
    "tags": []
   },
   "outputs": [
    {
     "name": "stdout",
     "output_type": "stream",
     "text": [
      "Final shape of dataset: (41176, 20)\n",
      "   age        job  marital    education  default housing loan    contact  \\\n",
      "0   56  housemaid  married     basic.4y       no      no   no  telephone   \n",
      "1   57   services  married  high.school  unknown      no   no  telephone   \n",
      "2   37   services  married  high.school       no     yes   no  telephone   \n",
      "3   40     admin.  married     basic.6y       no      no   no  telephone   \n",
      "4   56   services  married  high.school       no      no  yes  telephone   \n",
      "\n",
      "  month day_of_week  campaign  pdays  previous     poutcome  emp.var.rate  \\\n",
      "0   may         mon         1    NaN         0  nonexistent           1.1   \n",
      "1   may         mon         1    NaN         0  nonexistent           1.1   \n",
      "2   may         mon         1    NaN         0  nonexistent           1.1   \n",
      "3   may         mon         1    NaN         0  nonexistent           1.1   \n",
      "4   may         mon         1    NaN         0  nonexistent           1.1   \n",
      "\n",
      "   cons.price.idx  cons.conf.idx  euribor3m  nr.employed   y  \n",
      "0          93.994          -36.4      4.857       5191.0  no  \n",
      "1          93.994          -36.4      4.857       5191.0  no  \n",
      "2          93.994          -36.4      4.857       5191.0  no  \n",
      "3          93.994          -36.4      4.857       5191.0  no  \n",
      "4          93.994          -36.4      4.857       5191.0  no  \n"
     ]
    },
    {
     "name": "stderr",
     "output_type": "stream",
     "text": [
      "/usr/local/lib/python3.11/dist-packages/pandas/io/formats/format.py:1458: RuntimeWarning: invalid value encountered in greater\n",
      "  has_large_values = (abs_vals > 1e6).any()\n",
      "/usr/local/lib/python3.11/dist-packages/pandas/io/formats/format.py:1459: RuntimeWarning: invalid value encountered in less\n",
      "  has_small_values = ((abs_vals < 10 ** (-self.digits)) & (abs_vals > 0)).any()\n",
      "/usr/local/lib/python3.11/dist-packages/pandas/io/formats/format.py:1459: RuntimeWarning: invalid value encountered in greater\n",
      "  has_small_values = ((abs_vals < 10 ** (-self.digits)) & (abs_vals > 0)).any()\n"
     ]
    }
   ],
   "source": [
    "# Final check after cleaning\n",
    "print(\"Final shape of dataset:\", bank_full.shape)\n",
    "print(bank_full.head())\n",
    "warnings.filterwarnings(\"ignore\", category=RuntimeWarning)"
   ]
  },
  {
   "cell_type": "markdown",
   "id": "16602178",
   "metadata": {
    "papermill": {
     "duration": 0.011039,
     "end_time": "2025-08-25T07:06:05.015526",
     "exception": false,
     "start_time": "2025-08-25T07:06:05.004487",
     "status": "completed"
    },
    "tags": []
   },
   "source": [
    "# Exploratory Data Analysis (EDA)"
   ]
  },
  {
   "cell_type": "code",
   "execution_count": 21,
   "id": "d42e4a51",
   "metadata": {
    "execution": {
     "iopub.execute_input": "2025-08-25T07:06:05.040137Z",
     "iopub.status.busy": "2025-08-25T07:06:05.039836Z",
     "iopub.status.idle": "2025-08-25T07:06:05.206320Z",
     "shell.execute_reply": "2025-08-25T07:06:05.205394Z"
    },
    "papermill": {
     "duration": 0.180795,
     "end_time": "2025-08-25T07:06:05.207950",
     "exception": false,
     "start_time": "2025-08-25T07:06:05.027155",
     "status": "completed"
    },
    "tags": []
   },
   "outputs": [
    {
     "data": {
      "image/png": "[encoded data removed]",
      "text/plain": [
       "<Figure size 600x400 with 1 Axes>"
      ]
     },
     "metadata": {},
     "output_type": "display_data"
    }
   ],
   "source": [
    "# 1. Target variable distribution\n",
    "plt.figure(figsize=(6,4))\n",
    "sns.countplot(data=bank_full, x='y', palette=\"YlOrBr\")\n",
    "plt.title(\"Distribution of Target Variable (Subscribed vs Not)\")\n",
    "plt.show()"
   ]
  },
  {
   "cell_type": "markdown",
   "id": "684af222",
   "metadata": {
    "papermill": {
     "duration": 0.011947,
     "end_time": "2025-08-25T07:06:05.232762",
     "exception": false,
     "start_time": "2025-08-25T07:06:05.220815",
     "status": "completed"
    },
    "tags": []
   },
   "source": [
    "1. Distribution of the Target Variable (y)\n",
    "\n",
    "Typically, the distribution of \"no\" responses is much larger than that of \"yes\" responses (around 85–90% \"no\").\n",
    "\n",
    "Implication: The dataset is unbalanced, so the model should be used with caution (use balancing techniques such as SMOTE, undersampling, or weighting).\n",
    "\n",
    "For businesses: Current campaigns are inefficient → many customers are uninterested."
   ]
  },
  {
   "cell_type": "code",
   "execution_count": 22,
   "id": "c5ab9e92",
   "metadata": {
    "execution": {
     "iopub.execute_input": "2025-08-25T07:06:05.258166Z",
     "iopub.status.busy": "2025-08-25T07:06:05.257837Z",
     "iopub.status.idle": "2025-08-25T07:06:05.668406Z",
     "shell.execute_reply": "2025-08-25T07:06:05.667440Z"
    },
    "papermill": {
     "duration": 0.425019,
     "end_time": "2025-08-25T07:06:05.669936",
     "exception": false,
     "start_time": "2025-08-25T07:06:05.244917",
     "status": "completed"
    },
    "tags": []
   },
   "outputs": [
    {
     "name": "stderr",
     "output_type": "stream",
     "text": [
      "/usr/local/lib/python3.11/dist-packages/seaborn/_oldcore.py:1119: FutureWarning: use_inf_as_na option is deprecated and will be removed in a future version. Convert inf values to NaN before operating instead.\n",
      "  with pd.option_context('mode.use_inf_as_na', True):\n",
      "/usr/local/lib/python3.11/dist-packages/seaborn/_oldcore.py:1075: FutureWarning: When grouping with a length-1 list-like, you will need to pass a length-1 tuple to get_group in a future version of pandas. Pass `(name,)` instead of `name` to silence this warning.\n",
      "  data_subset = grouped_data.get_group(pd_key)\n",
      "/usr/local/lib/python3.11/dist-packages/seaborn/_oldcore.py:1075: FutureWarning: When grouping with a length-1 list-like, you will need to pass a length-1 tuple to get_group in a future version of pandas. Pass `(name,)` instead of `name` to silence this warning.\n",
      "  data_subset = grouped_data.get_group(pd_key)\n",
      "/usr/local/lib/python3.11/dist-packages/seaborn/_oldcore.py:1075: FutureWarning: When grouping with a length-1 list-like, you will need to pass a length-1 tuple to get_group in a future version of pandas. Pass `(name,)` instead of `name` to silence this warning.\n",
      "  data_subset = grouped_data.get_group(pd_key)\n",
      "/usr/local/lib/python3.11/dist-packages/seaborn/_oldcore.py:1075: FutureWarning: When grouping with a length-1 list-like, you will need to pass a length-1 tuple to get_group in a future version of pandas. Pass `(name,)` instead of `name` to silence this warning.\n",
      "  data_subset = grouped_data.get_group(pd_key)\n"
     ]
    },
    {
     "data": {
      "image/png": "[encoded data removed]",
      "text/plain": [
       "<Figure size 800x500 with 1 Axes>"
      ]
     },
     "metadata": {},
     "output_type": "display_data"
    }
   ],
   "source": [
    "# 2. Age distribution by subscription\n",
    "plt.figure(figsize=(8,5))\n",
    "sns.histplot(data=bank_full, x='age', hue='y', multiple='stack', bins=30, palette='autumn')\n",
    "plt.title(\"Age Distribution by Subscription Status\")\n",
    "plt.show()\n",
    "warnings.filterwarnings(\"ignore\")"
   ]
  },
  {
   "cell_type": "markdown",
   "id": "5f1726e7",
   "metadata": {
    "papermill": {
     "duration": 0.012731,
     "end_time": "2025-08-25T07:06:05.695645",
     "exception": false,
     "start_time": "2025-08-25T07:06:05.682914",
     "status": "completed"
    },
    "tags": []
   },
   "source": [
    "2. Age Distribution by Subscription Status\n",
    "\n",
    "It is possible that people aged 30–40 are more interested in opening a deposit account.\n",
    "\n",
    "Younger people (<25 years old) and older people (>60 years old) are less likely to be interested.\n",
    "\n",
    "Business implication: Target campaigns at productive age groups → more cost-effective."
   ]
  },
  {
   "cell_type": "code",
   "execution_count": 23,
   "id": "4028484a",
   "metadata": {
    "execution": {
     "iopub.execute_input": "2025-08-25T07:06:05.722976Z",
     "iopub.status.busy": "2025-08-25T07:06:05.722650Z",
     "iopub.status.idle": "2025-08-25T07:06:06.047363Z",
     "shell.execute_reply": "2025-08-25T07:06:06.046322Z"
    },
    "papermill": {
     "duration": 0.340201,
     "end_time": "2025-08-25T07:06:06.048909",
     "exception": false,
     "start_time": "2025-08-25T07:06:05.708708",
     "status": "completed"
    },
    "tags": []
   },
   "outputs": [
    {
     "data": {
      "image/png": "[encoded data removed]",
      "text/plain": [
       "<Figure size 1200x600 with 1 Axes>"
      ]
     },
     "metadata": {},
     "output_type": "display_data"
    }
   ],
   "source": [
    "# 3. Job type vs subscription rate\n",
    "plt.figure(figsize=(12,6))\n",
    "sns.countplot(data=bank_full, x='job', hue='y', palette='afmhot')\n",
    "plt.xticks(rotation=45)\n",
    "plt.title(\"Job Type vs Subscription Outcome\")\n",
    "plt.show()"
   ]
  },
  {
   "cell_type": "markdown",
   "id": "d46bf433",
   "metadata": {
    "papermill": {
     "duration": 0.014353,
     "end_time": "2025-08-25T07:06:06.077470",
     "exception": false,
     "start_time": "2025-08-25T07:06:06.063117",
     "status": "completed"
    },
    "tags": []
   },
   "source": [
    "3. Occupation Type vs. Subscription Results\n",
    "\n",
    "Professions such as management, engineering, and students may have a higher \"yes\" rate.\n",
    "\n",
    "Meanwhile, blue-collar jobs or domestic helpers typically have lower subscription rates.\n",
    "\n",
    "Business Implications: Banks can focus campaigns on potential professional segments to increase conversion rates."
   ]
  },
  {
   "cell_type": "code",
   "execution_count": 24,
   "id": "e64e385f",
   "metadata": {
    "execution": {
     "iopub.execute_input": "2025-08-25T07:06:06.108942Z",
     "iopub.status.busy": "2025-08-25T07:06:06.108574Z",
     "iopub.status.idle": "2025-08-25T07:06:06.290521Z",
     "shell.execute_reply": "2025-08-25T07:06:06.289517Z"
    },
    "papermill": {
     "duration": 0.199249,
     "end_time": "2025-08-25T07:06:06.292160",
     "exception": false,
     "start_time": "2025-08-25T07:06:06.092911",
     "status": "completed"
    },
    "tags": []
   },
   "outputs": [
    {
     "data": {
      "image/png": "[encoded data removed]",
      "text/plain": [
       "<Figure size 800x500 with 1 Axes>"
      ]
     },
     "metadata": {},
     "output_type": "display_data"
    }
   ],
   "source": [
    "# 4. Campaign duration (number of contacts) effect\n",
    "plt.figure(figsize=(8,5))\n",
    "sns.boxplot(data=bank_full, x='y', y='campaign', palette='YlOrBr')\n",
    "plt.ylim(0, 30)  # limit extreme outliers\n",
    "plt.title(\"Effect of Number of Contacts on Subscription\")\n",
    "plt.show()\n"
   ]
  },
  {
   "cell_type": "markdown",
   "id": "f4946528",
   "metadata": {
    "papermill": {
     "duration": 0.014647,
     "end_time": "2025-08-25T07:06:06.321955",
     "exception": false,
     "start_time": "2025-08-25T07:06:06.307308",
     "status": "completed"
    },
    "tags": []
   },
   "source": [
    "4. Effect of Campaign Duration (Number of Contacts)\n",
    "\n",
    "Boxplots typically show that the longer the campaign (the more contacts in a single campaign), the lower the probability of a \"yes\" response.\n",
    "\n",
    "The majority of \"yes\" responses occur within 1–3 contacts, with any longer being considered annoying.\n",
    "\n",
    "Business Implications: Avoid contacting prospects too frequently; focus on the quality of the contacts."
   ]
  },
  {
   "cell_type": "code",
   "execution_count": 25,
   "id": "cee96cff",
   "metadata": {
    "execution": {
     "iopub.execute_input": "2025-08-25T07:06:06.353251Z",
     "iopub.status.busy": "2025-08-25T07:06:06.352935Z",
     "iopub.status.idle": "2025-08-25T07:06:06.733000Z",
     "shell.execute_reply": "2025-08-25T07:06:06.731998Z"
    },
    "papermill": {
     "duration": 0.397348,
     "end_time": "2025-08-25T07:06:06.734535",
     "exception": false,
     "start_time": "2025-08-25T07:06:06.337187",
     "status": "completed"
    },
    "tags": []
   },
   "outputs": [
    {
     "data": {
      "image/png": "[encoded data removed]",
      "text/plain": [
       "<Figure size 800x500 with 1 Axes>"
      ]
     },
     "metadata": {},
     "output_type": "display_data"
    }
   ],
   "source": [
    "# 5. Pdays distribution\n",
    "plt.figure(figsize=(8,5))\n",
    "sns.histplot(data=bank_full, x='pdays', hue='y', multiple='stack', bins=30, palette='afmhot')\n",
    "plt.title(\"Effect of Previous Contact (pdays) on Subscription\")\n",
    "plt.show()"
   ]
  },
  {
   "cell_type": "markdown",
   "id": "3d84266b",
   "metadata": {
    "papermill": {
     "duration": 0.015426,
     "end_time": "2025-08-25T07:06:06.765979",
     "exception": false,
     "start_time": "2025-08-25T07:06:06.750553",
     "status": "completed"
    },
    "tags": []
   },
   "source": [
    "5. Effect of Previous Contacts (pdays)\n",
    "\n",
    "If pdays = -1 (never contacted before), the \"yes\" rate is typically lower.\n",
    "\n",
    "If previously contacted (pdays >= 0), the probability of a \"yes\" response may be higher.\n",
    "\n",
    "Business Implications: Following up with previously contacted prospects is more likely to be successful than making cold calls."
   ]
  },
  {
   "cell_type": "markdown",
   "id": "cb13ba2f",
   "metadata": {
    "papermill": {
     "duration": 0.015524,
     "end_time": "2025-08-25T07:06:06.797080",
     "exception": false,
     "start_time": "2025-08-25T07:06:06.781556",
     "status": "completed"
    },
    "tags": []
   },
   "source": [
    "# Data Transformation & Feature Engineering"
   ]
  },
  {
   "cell_type": "code",
   "execution_count": 26,
   "id": "88476c71",
   "metadata": {
    "execution": {
     "iopub.execute_input": "2025-08-25T07:06:06.830541Z",
     "iopub.status.busy": "2025-08-25T07:06:06.829574Z",
     "iopub.status.idle": "2025-08-25T07:06:06.848993Z",
     "shell.execute_reply": "2025-08-25T07:06:06.847995Z"
    },
    "papermill": {
     "duration": 0.037613,
     "end_time": "2025-08-25T07:06:06.850482",
     "exception": false,
     "start_time": "2025-08-25T07:06:06.812869",
     "status": "completed"
    },
    "tags": []
   },
   "outputs": [],
   "source": [
    "# 0) Start from a safe working copy\n",
    "fe = bank_full.copy()"
   ]
  },
  {
   "cell_type": "code",
   "execution_count": 27,
   "id": "5fff7498",
   "metadata": {
    "execution": {
     "iopub.execute_input": "2025-08-25T07:06:06.884248Z",
     "iopub.status.busy": "2025-08-25T07:06:06.883680Z",
     "iopub.status.idle": "2025-08-25T07:06:06.897553Z",
     "shell.execute_reply": "2025-08-25T07:06:06.896556Z"
    },
    "papermill": {
     "duration": 0.032395,
     "end_time": "2025-08-25T07:06:06.899151",
     "exception": false,
     "start_time": "2025-08-25T07:06:06.866756",
     "status": "completed"
    },
    "tags": []
   },
   "outputs": [],
   "source": [
    "# If needed, enforce lowercase/canonical target\n",
    "fe.loc[:, 'y'] = fe['y'].str.lower()"
   ]
  },
  {
   "cell_type": "code",
   "execution_count": 28,
   "id": "cb61d95f",
   "metadata": {
    "execution": {
     "iopub.execute_input": "2025-08-25T07:06:06.930969Z",
     "iopub.status.busy": "2025-08-25T07:06:06.930657Z",
     "iopub.status.idle": "2025-08-25T07:06:06.936481Z",
     "shell.execute_reply": "2025-08-25T07:06:06.935742Z"
    },
    "papermill": {
     "duration": 0.023645,
     "end_time": "2025-08-25T07:06:06.938046",
     "exception": false,
     "start_time": "2025-08-25T07:06:06.914401",
     "status": "completed"
    },
    "tags": []
   },
   "outputs": [],
   "source": [
    "# Ensure pdays special code handled (safety, in case cleaning wasn’t run here)\n",
    "fe.loc[:, 'pdays'] = fe['pdays'].replace(999, np.nan)"
   ]
  },
  {
   "cell_type": "code",
   "execution_count": 29,
   "id": "496e7ded",
   "metadata": {
    "execution": {
     "iopub.execute_input": "2025-08-25T07:06:06.970725Z",
     "iopub.status.busy": "2025-08-25T07:06:06.970389Z",
     "iopub.status.idle": "2025-08-25T07:06:06.976148Z",
     "shell.execute_reply": "2025-08-25T07:06:06.975417Z"
    },
    "papermill": {
     "duration": 0.023582,
     "end_time": "2025-08-25T07:06:06.977483",
     "exception": false,
     "start_time": "2025-08-25T07:06:06.953901",
     "status": "completed"
    },
    "tags": []
   },
   "outputs": [],
   "source": [
    "# Convenience/Binning Features (business-friendly)\n",
    "\n",
    "# 1a) Was the client previously contacted?\n",
    "fe.loc[:, 'prev_contacted'] = fe['pdays'].notna().astype(int)"
   ]
  },
  {
   "cell_type": "code",
   "execution_count": 30,
   "id": "310c65e1",
   "metadata": {
    "execution": {
     "iopub.execute_input": "2025-08-25T07:06:07.010922Z",
     "iopub.status.busy": "2025-08-25T07:06:07.010111Z",
     "iopub.status.idle": "2025-08-25T07:06:07.022104Z",
     "shell.execute_reply": "2025-08-25T07:06:07.021211Z"
    },
    "papermill": {
     "duration": 0.030039,
     "end_time": "2025-08-25T07:06:07.023879",
     "exception": false,
     "start_time": "2025-08-25T07:06:06.993840",
     "status": "completed"
    },
    "tags": []
   },
   "outputs": [],
   "source": [
    "# pdays buckets (treat NaN as \"never\")\n",
    "#     Use a temporary -1 to capture \"never\" in a labeled bin\n",
    "tmp_pdays = fe['pdays'].fillna(-1)\n",
    "bins = [-2, -0.5, 7, 30, 90, np.inf]                # -1 => never; <=7; 8-30; 31-90; >90\n",
    "labels = ['never', '≤7d', '8–30d', '31–90d', '>90d']\n",
    "fe.loc[:, 'pdays_bin'] = pd.cut(tmp_pdays, bins=bins, labels=labels, right=True)"
   ]
  },
  {
   "cell_type": "code",
   "execution_count": 31,
   "id": "7a4f4df7",
   "metadata": {
    "execution": {
     "iopub.execute_input": "2025-08-25T07:06:07.057712Z",
     "iopub.status.busy": "2025-08-25T07:06:07.057332Z",
     "iopub.status.idle": "2025-08-25T07:06:07.068197Z",
     "shell.execute_reply": "2025-08-25T07:06:07.066973Z"
    },
    "papermill": {
     "duration": 0.029598,
     "end_time": "2025-08-25T07:06:07.069761",
     "exception": false,
     "start_time": "2025-08-25T07:06:07.040163",
     "status": "completed"
    },
    "tags": []
   },
   "outputs": [
    {
     "name": "stdout",
     "output_type": "stream",
     "text": [
      "campaign_bin\n",
      "low       40989\n",
      "medium      178\n",
      "high          9\n",
      "Name: count, dtype: int64\n"
     ]
    }
   ],
   "source": [
    "# Campaign intensity buckets\n",
    "fe['campaign_bin'] = pd.cut(fe['campaign'], bins=3, labels=['low', 'medium', 'high'])\n",
    "\n",
    "print(fe['campaign_bin'].value_counts())"
   ]
  },
  {
   "cell_type": "code",
   "execution_count": 32,
   "id": "f6f0db3a",
   "metadata": {
    "execution": {
     "iopub.execute_input": "2025-08-25T07:06:07.102378Z",
     "iopub.status.busy": "2025-08-25T07:06:07.102073Z",
     "iopub.status.idle": "2025-08-25T07:06:07.117933Z",
     "shell.execute_reply": "2025-08-25T07:06:07.117047Z"
    },
    "papermill": {
     "duration": 0.034054,
     "end_time": "2025-08-25T07:06:07.119473",
     "exception": false,
     "start_time": "2025-08-25T07:06:07.085419",
     "status": "completed"
    },
    "tags": []
   },
   "outputs": [],
   "source": [
    "# Order time features (helps tree/linear models + clarity)\n",
    "month_order = ['jan','feb','mar','apr','may','jun','jul','aug','sep','oct','nov','dec']\n",
    "dow_order   = ['mon','tue','wed','thu','fri']\n",
    "fe.loc[:, 'month'] = pd.Categorical(fe['month'], categories=month_order, ordered=True)\n",
    "fe.loc[:, 'day_of_week'] = pd.Categorical(fe['day_of_week'], categories=dow_order, ordered=True)"
   ]
  },
  {
   "cell_type": "code",
   "execution_count": 33,
   "id": "cb9ab35d",
   "metadata": {
    "execution": {
     "iopub.execute_input": "2025-08-25T07:06:07.151394Z",
     "iopub.status.busy": "2025-08-25T07:06:07.151108Z",
     "iopub.status.idle": "2025-08-25T07:06:07.159939Z",
     "shell.execute_reply": "2025-08-25T07:06:07.159036Z"
    },
    "papermill": {
     "duration": 0.026524,
     "end_time": "2025-08-25T07:06:07.161429",
     "exception": false,
     "start_time": "2025-08-25T07:06:07.134905",
     "status": "completed"
    },
    "tags": []
   },
   "outputs": [],
   "source": [
    "# Target encode to binary (1=yes, 0=no)\n",
    "\n",
    "y = fe['y'].map({'yes': 1, 'no': 0})"
   ]
  },
  {
   "cell_type": "code",
   "execution_count": 34,
   "id": "4b513998",
   "metadata": {
    "execution": {
     "iopub.execute_input": "2025-08-25T07:06:07.194888Z",
     "iopub.status.busy": "2025-08-25T07:06:07.194054Z",
     "iopub.status.idle": "2025-08-25T07:06:07.206643Z",
     "shell.execute_reply": "2025-08-25T07:06:07.205813Z"
    },
    "papermill": {
     "duration": 0.031364,
     "end_time": "2025-08-25T07:06:07.208395",
     "exception": false,
     "start_time": "2025-08-25T07:06:07.177031",
     "status": "completed"
    },
    "tags": []
   },
   "outputs": [],
   "source": [
    "# Select columns for modeling\n",
    "#   (Numerics kept continuous; engineered caps included; engineered categoricals included)\n",
    "\n",
    "num_cols = [\n",
    "    'age','pdays',\n",
    "    'emp.var.rate', 'cons.price.idx', 'cons.conf.idx', 'euribor3m', 'nr.employed'\n",
    "]\n",
    "\n",
    "cat_cols = [\n",
    "    'job', 'marital', 'education', 'default', 'housing', 'loan',\n",
    "    'contact', 'month', 'day_of_week', 'poutcome',\n",
    "    'pdays_bin', 'campaign_bin', 'prev_contacted'\n",
    "]\n",
    "\n",
    "X = fe[num_cols + cat_cols]"
   ]
  },
  {
   "cell_type": "code",
   "execution_count": 35,
   "id": "774e5078",
   "metadata": {
    "execution": {
     "iopub.execute_input": "2025-08-25T07:06:07.241441Z",
     "iopub.status.busy": "2025-08-25T07:06:07.240884Z",
     "iopub.status.idle": "2025-08-25T07:06:10.701883Z",
     "shell.execute_reply": "2025-08-25T07:06:10.700780Z"
    },
    "papermill": {
     "duration": 3.479431,
     "end_time": "2025-08-25T07:06:10.703537",
     "exception": false,
     "start_time": "2025-08-25T07:06:07.224106",
     "status": "completed"
    },
    "tags": []
   },
   "outputs": [
    {
     "name": "stdout",
     "output_type": "stream",
     "text": [
      "\n",
      "=== Classification Report (Baseline Logistic, class_weight='balanced') ===\n",
      "              precision    recall  f1-score   support\n",
      "\n",
      "           0     0.9501    0.8537    0.8993      7308\n",
      "           1     0.3595    0.6466    0.4621       928\n",
      "\n",
      "    accuracy                         0.8304      8236\n",
      "   macro avg     0.6548    0.7501    0.6807      8236\n",
      "weighted avg     0.8835    0.8304    0.8500      8236\n",
      "\n",
      "ROC-AUC: 0.8018\n"
     ]
    }
   ],
   "source": [
    "# Train/Validation split (stratify to respect imbalance)\n",
    "\n",
    "X_train, X_test, y_train, y_test = train_test_split(\n",
    "    X, y, test_size=0.20, random_state=42, stratify=y\n",
    ")\n",
    "\n",
    "# Preprocess: impute + scale (num), impute + one-hot (cat)\n",
    "\n",
    "numeric_transformer = Pipeline(steps=[\n",
    "    ('imputer', SimpleImputer(strategy='median')),   # robust against skew/outliers\n",
    "    ('scaler', StandardScaler())                     # good for linear models\n",
    "])\n",
    "\n",
    "categorical_transformer = Pipeline(steps=[\n",
    "    ('imputer', SimpleImputer(strategy='most_frequent')),\n",
    "    ('onehot', OneHotEncoder(handle_unknown='ignore', sparse_output=False))\n",
    "])\n",
    "\n",
    "preprocess = ColumnTransformer(\n",
    "    transformers=[\n",
    "        ('num', numeric_transformer, num_cols),\n",
    "        ('cat', categorical_transformer, cat_cols)\n",
    "    ],\n",
    "    remainder='drop'\n",
    ")\n",
    "\n",
    "# Baseline model with class imbalance handling\n",
    "clf = Pipeline(steps=[\n",
    "    ('preprocess', preprocess),\n",
    "    ('model', LogisticRegression(max_iter=1000, class_weight='balanced', n_jobs=None))\n",
    "])\n",
    "\n",
    "clf.fit(X_train, y_train)\n",
    "\n",
    "# Quick evaluation (classification report + ROC-AUC)\n",
    "\n",
    "y_pred = clf.predict(X_test)\n",
    "y_proba = clf.predict_proba(X_test)[:, 1]\n",
    "\n",
    "print(\"\\n=== Classification Report (Baseline Logistic, class_weight='balanced') ===\")\n",
    "print(classification_report(y_test, y_pred, digits=4))\n",
    "\n",
    "print(\"ROC-AUC:\", round(roc_auc_score(y_test, y_proba), 4))"
   ]
  },
  {
   "cell_type": "markdown",
   "id": "c70e7197",
   "metadata": {
    "papermill": {
     "duration": 0.01499,
     "end_time": "2025-08-25T07:06:10.734283",
     "exception": false,
     "start_time": "2025-08-25T07:06:10.719293",
     "status": "completed"
    },
    "tags": []
   },
   "source": [
    "**Explained :**\n",
    "\n",
    "Business-meaningful features: prev_contacted, pdays_bin, campaign_bin.\n",
    "\n",
    "Robust numerics: winsorized counts (campaign_cap, previous_cap) + scaling.\n",
    "\n",
    "Clean encoding: OHE for categoricals with unknown handling.\n",
    "\n",
    "Imbalance aware: class_weight='balanced' (great baseline).\n",
    "\n",
    "Ready to swap model: you can replace Logistic with XGBoost/LightGBM later without changing preprocessing."
   ]
  },
  {
   "cell_type": "markdown",
   "id": "329f275b",
   "metadata": {
    "papermill": {
     "duration": 0.015247,
     "end_time": "2025-08-25T07:06:10.765745",
     "exception": false,
     "start_time": "2025-08-25T07:06:10.750498",
     "status": "completed"
    },
    "tags": []
   },
   "source": [
    "# Data Analysis & Modeling"
   ]
  },
  {
   "cell_type": "code",
   "execution_count": 36,
   "id": "0fd7cb16",
   "metadata": {
    "execution": {
     "iopub.execute_input": "2025-08-25T07:06:10.797510Z",
     "iopub.status.busy": "2025-08-25T07:06:10.797191Z",
     "iopub.status.idle": "2025-08-25T07:06:14.703100Z",
     "shell.execute_reply": "2025-08-25T07:06:14.702027Z"
    },
    "papermill": {
     "duration": 3.923819,
     "end_time": "2025-08-25T07:06:14.704791",
     "exception": false,
     "start_time": "2025-08-25T07:06:10.780972",
     "status": "completed"
    },
    "tags": []
   },
   "outputs": [
    {
     "name": "stdout",
     "output_type": "stream",
     "text": [
      "              precision    recall  f1-score   support\n",
      "\n",
      "           0       0.91      0.99      0.94      7308\n",
      "           1       0.65      0.20      0.31       928\n",
      "\n",
      "    accuracy                           0.90      8236\n",
      "   macro avg       0.78      0.59      0.63      8236\n",
      "weighted avg       0.88      0.90      0.87      8236\n",
      "\n",
      "ROC AUC: 0.8002694407876111\n"
     ]
    }
   ],
   "source": [
    "# Baseline Model (Logistic Regression)\n",
    "# Start with logistic regression because it’s interpretable.\n",
    "# Evaluate using classification_report and ROC-AUC.\n",
    "\n",
    "warnings.filterwarnings(\"ignore\", category=FutureWarning)\n",
    "\n",
    "# List column numeric and \n",
    "num_cols = [\n",
    "    \"age\",\"campaign\",\"pdays\",\"previous\",\n",
    "    \"emp.var.rate\",\"cons.price.idx\",\"cons.conf.idx\",\"euribor3m\",\"nr.employed\"\n",
    "    # Note: usually 'duration' is removed first to avoid leakage.\n",
    "]\n",
    "cat_cols = [\n",
    "    \"job\",\"marital\",\"education\",\"default\",\"housing\",\"loan\",\n",
    "    \"contact\",\"month\",\"day_of_week\",\"poutcome\"\n",
    "]\n",
    "\n",
    "# Make sure column already numerical\n",
    "for c in num_cols:\n",
    "    bank_full[c] = pd.to_numeric(bank_full[c], errors=\"coerce\")\n",
    "\n",
    "# Encode target y\n",
    "y = bank_full[\"y\"].map({\"yes\":1, \"no\":0}).astype(int)\n",
    "X = bank_full[num_cols + cat_cols]\n",
    "\n",
    "# Train-test split\n",
    "X_train, X_test, y_train, y_test = train_test_split(\n",
    "    X, y, test_size=0.2, stratify=y, random_state=42\n",
    ")\n",
    "\n",
    "# Pipeline preprocessing\n",
    "num_transformer = Pipeline([\n",
    "    (\"imputer\", SimpleImputer(strategy=\"median\")),\n",
    "    (\"scaler\", StandardScaler())\n",
    "])\n",
    "cat_transformer = Pipeline([\n",
    "    (\"imputer\", SimpleImputer(strategy=\"most_frequent\")),\n",
    "    (\"onehot\", OneHotEncoder(handle_unknown=\"ignore\"))\n",
    "])\n",
    "\n",
    "preprocessor = ColumnTransformer([\n",
    "    (\"num\", num_transformer, num_cols),\n",
    "    (\"cat\", cat_transformer, cat_cols)\n",
    "])\n",
    "\n",
    "# Logistic Regression model\n",
    "logreg_pipeline = Pipeline([\n",
    "    (\"preprocessor\", preprocessor),\n",
    "    (\"model\", LogisticRegression(max_iter=500))\n",
    "])\n",
    "\n",
    "# Train model\n",
    "logreg_pipeline.fit(X_train, y_train)\n",
    "\n",
    "# Predict\n",
    "y_pred  = logreg_pipeline.predict(X_test)\n",
    "y_proba = logreg_pipeline.predict_proba(X_test)[:, 1]\n",
    "\n",
    "# Evaluation\n",
    "print(classification_report(y_test, y_pred))\n",
    "print(\"ROC AUC:\", roc_auc_score(y_test, y_proba))"
   ]
  },
  {
   "cell_type": "markdown",
   "id": "8a08574a",
   "metadata": {
    "papermill": {
     "duration": 0.015487,
     "end_time": "2025-08-25T07:06:14.736332",
     "exception": false,
     "start_time": "2025-08-25T07:06:14.720845",
     "status": "completed"
    },
    "tags": []
   },
   "source": [
    "# 📊 Summary & Conclusion  \n",
    "\n",
    "## 1. Context  \n",
    "- The **Bank Marketing Additional Full** dataset comes from a telemarketing campaign conducted by a Portuguese bank (2008–2010).  \n",
    "- **Business goal** → predict whether a client will subscribe to a term deposit (`y = yes/no`).  \n",
    "- Dataset size: **41,188 rows** with **20 features**, including:  \n",
    "  - Client demographics (age, job, marital status, education).  \n",
    "  - Macroeconomic indicators (Euribor, CPI, Employment).  \n",
    "  - Campaign details (number of contacts, call duration, outcome of previous campaigns).  \n",
    "- This dataset is also a **benchmark from the UCI ML Repository**, making results comparable to prior research.  \n",
    "- **Main challenge** → severe **class imbalance**: most clients said *“no”* to the offer.  \n",
    "\n",
    "| Target | Count | Proportion |\n",
    "|--------|-------|------------|\n",
    "| No     | 36,548 | 88.7% |\n",
    "| Yes    | 4,640  | 11.3% |\n",
    "\n",
    "---\n",
    "\n",
    "## 2. Insights  \n",
    "- **Age distribution** → most clients are **30–50 years old** (economically active age group).  \n",
    "- **Campaign history** → the majority of clients **have never been contacted before** (`pdays = 999`, `previous = 0`).  \n",
    "- **Call duration** → longer calls correlate with higher chance of subscription (*note: potential data leakage*).  \n",
    "- **Feature importance (initial exploration)** → strongest predictors: `duration`, `pdays`, `euribor3m`, `nr.employed`.  \n",
    "- **Correlation** → macroeconomic features (`euribor3m`, `emp.var.rate`, `nr.employed`) are highly correlated, requiring careful feature selection.  \n",
    "\n",
    "**Baseline Model (Logistic Regression):**  \n",
    "- Accuracy ≈ **90%**, but misleading due to imbalance.  \n",
    "- Recall for “yes” class = **0.20 (20%)** → model fails to identify most potential subscribers.  \n",
    "- Precision for “yes” is low → high number of false positives.  \n",
    "- ROC AUC = **0.80** → discrimination ability is decent, but improvements are possible.  \n",
    "\n",
    "---\n",
    "\n",
    "## 3. Recommendations  \n",
    "\n",
    "### 🔧 Technical (Modeling)  \n",
    "- Apply **class_weight=\"balanced\"** or resampling methods (SMOTE/undersampling) to address imbalance.  \n",
    "- Experiment with more powerful models: **Random Forest, Gradient Boosting, XGBoost** (often outperform logistic regression on imbalanced data).  \n",
    "- Conduct **hyperparameter tuning** and consider **ensemble stacking**.  \n",
    "- Evaluate using **Precision-Recall Curve** in addition to ROC AUC.  \n",
    "- Adjust classification threshold (e.g., 0.3 instead of 0.5) to boost recall for the “yes” class.  \n",
    "\n",
    "### 📈 Business (Campaign Strategy)  \n",
    "- Focus on the **30–50 age group**, as they represent the majority of clients.  \n",
    "- Use **customer profiling** (job, marital status, education) for better-targeted campaigns.  \n",
    "- Avoid excessive calls (`campaign` too high) as this tends to be ineffective.  \n",
    "- Leverage macroeconomic context (e.g., **low Euribor periods** make deposits more attractive).  \n",
    "- Treat the model as a **decision-support tool**, not a replacement for marketing expertise.  \n",
    "\n",
    "### 🚀 Next Steps  \n",
    "- Build a **real-time dashboard** to monitor campaign performance metrics.  \n",
    "- Run **A/B tests** to compare model-driven targeting with random campaigns.  \n",
    "- Incorporate **Customer Lifetime Value (CLV)** to prioritize high-value clients for long-term profitability.  \n",
    "\n",
    "\n",
    "//\n",
    "\n",
    "# 📊 Summary & Conclusion  \n",
    "\n",
    "## 1. Context  \n",
    "- Dataset **Bank Marketing Additional Full** berasal dari kampanye telemarketing bank di Portugal (2008–2010).  \n",
    "- Tujuan bisnis → memprediksi apakah nasabah akan berlangganan deposito berjangka (`y = yes/no`).  \n",
    "- Dataset berisi **41,188 baris** dengan **20 fitur**:  \n",
    "  - Data demografi nasabah (usia, pekerjaan, status, pendidikan).  \n",
    "  - Kondisi ekonomi makro (Euribor, CPI, Employment).  \n",
    "  - Detail kampanye (jumlah kontak, durasi panggilan, hasil kampanye sebelumnya).  \n",
    "- Dataset ini termasuk **benchmark UCI ML Repository** → hasil bisa dibandingkan dengan studi sebelumnya.  \n",
    "- Tantangan utama → **imbalanced dataset**: mayoritas nasabah menjawab \"no\".  \n",
    "\n",
    "| Target | Count | Proportion |\n",
    "|--------|-------|------------|\n",
    "| No     | 36,548 | 88.7% |\n",
    "| Yes    | 4,640  | 11.3% |\n",
    "\n",
    "---\n",
    "\n",
    "## 2. Insights  \n",
    "- **Distribusi Usia** → mayoritas nasabah berusia **30–50 tahun** (usia produktif).  \n",
    "- **Riwayat Kampanye** → sebagian besar nasabah **belum pernah dihubungi sebelumnya** (`pdays = 999`, `previous = 0`).  \n",
    "- **Durasi Panggilan** → semakin lama telepon, semakin tinggi kemungkinan nasabah berkata “yes” (*catatan: bisa dianggap data leakage*).  \n",
    "- **Feature Importance Awal** → variabel paling berpengaruh: `duration`, `pdays`, `euribor3m`, `nr.employed`.  \n",
    "- **Korelasi Antar Fitur** → variabel ekonomi (`euribor3m`, `emp.var.rate`, `nr.employed`) sangat berkorelasi → perlu diperhatikan untuk feature selection.  \n",
    "\n",
    "**Baseline Model (Logistic Regression):**  \n",
    "- Accuracy ≈ **90%** → menipu karena imbalance.  \n",
    "- Recall kelas “yes” hanya **0.20 (20%)** → model gagal mengenali mayoritas nasabah potensial.  \n",
    "- Precision kelas “yes” rendah → banyak false positives.  \n",
    "- ROC AUC = **0.80** → kemampuan diskriminasi lumayan, masih bisa ditingkatkan.  \n",
    "\n",
    "---\n",
    "\n",
    "## 3. Recommendations  \n",
    "\n",
    "### 🔧 Technical (Modeling)  \n",
    "- Gunakan **class_weight=\"balanced\"** atau teknik resampling (SMOTE/undersampling) untuk mengatasi imbalance.  \n",
    "- Eksperimen dengan model lain: **Random Forest, Gradient Boosting, XGBoost** → biasanya lebih baik pada dataset imbalance.  \n",
    "- Lakukan **hyperparameter tuning** dan uji **ensemble stacking**.  \n",
    "- Evaluasi dengan **Precision-Recall Curve** selain ROC.  \n",
    "- Coba adjust decision threshold (misalnya 0.3 alih-alih 0.5) agar recall “yes” meningkat.  \n",
    "\n",
    "### 📈 Business (Campaign Strategy)  \n",
    "- Fokus pada segmen **usia produktif (30–50 tahun)** karena ini mayoritas nasabah.  \n",
    "- Segmentasi marketing berbasis **profil nasabah** (pekerjaan, status, pendidikan) agar kampanye lebih tepat sasaran.  \n",
    "- Hindari menghubungi nasabah terlalu sering (`campaign` tinggi) → cenderung tidak efektif.  \n",
    "- Perhatikan kondisi makroekonomi (misalnya saat **Euribor rendah**, deposito lebih menarik).  \n",
    "- Gunakan model sebagai **decision support tool**, bukan pengganti judgment dari marketing officer.  \n",
    "\n",
    "### 🚀 Next Steps  \n",
    "- Bangun **dashboard monitoring** untuk memantau metrik kampanye real-time.  \n",
    "- Uji strategi marketing berbasis prediksi model (**A/B testing**) → bandingkan efektivitas dengan kampanye acak.  \n",
    "- Pertimbangkan **Customer Lifetime Value (CLV)** untuk menargetkan nasabah dengan potensi jangka panjang.  \n"
   ]
  }
 ],
 "metadata": {
  "kaggle": {
   "accelerator": "none",
   "dataSources": [
    {
     "datasetId": 8095237,
     "sourceId": 12803327,
     "sourceType": "datasetVersion"
    }
   ],
   "dockerImageVersionId": 31089,
   "isGpuEnabled": false,
   "isInternetEnabled": true,
   "language": "python",
   "sourceType": "notebook"
  },
  "kernelspec": {
   "display_name": "Python 3",
   "language": "python",
   "name": "python3"
  },
  "language_info": {
   "codemirror_mode": {
    "name": "ipython",
    "version": 3
   },
   "file_extension": ".py",
   "mimetype": "text/x-python",
   "name": "python",
   "nbconvert_exporter": "python",
   "pygments_lexer": "ipython3",
   "version": "3.11.13"
  },
  "papermill": {
   "default_parameters": {},
   "duration": 22.526145,
   "end_time": "2025-08-25T07:06:15.574364",
   "environment_variables": {},
   "exception": null,
   "input_path": "__notebook__.ipynb",
   "output_path": "__notebook__.ipynb",
   "parameters": {},
   "start_time": "2025-08-25T07:05:53.048219",
   "version": "2.6.0"
  }
 },
 "nbformat": 4,
 "nbformat_minor": 5
}
